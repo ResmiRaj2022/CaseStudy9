{
 "cells": [
  {
   "cell_type": "code",
   "execution_count": 1,
   "id": "56fe5bcd",
   "metadata": {},
   "outputs": [],
   "source": [
    "import numpy as np\n",
    "import pandas as pd\n",
    "import matplotlib.pyplot as plt\n",
    "import seaborn as sns"
   ]
  },
  {
   "cell_type": "markdown",
   "id": "56aadfeb",
   "metadata": {},
   "source": [
    "# 1) Reading the Dataset into python"
   ]
  },
  {
   "cell_type": "code",
   "execution_count": 2,
   "id": "d44c55c8",
   "metadata": {},
   "outputs": [
    {
     "data": {
      "text/html": [
       "<div>\n",
       "<style scoped>\n",
       "    .dataframe tbody tr th:only-of-type {\n",
       "        vertical-align: middle;\n",
       "    }\n",
       "\n",
       "    .dataframe tbody tr th {\n",
       "        vertical-align: top;\n",
       "    }\n",
       "\n",
       "    .dataframe thead th {\n",
       "        text-align: right;\n",
       "    }\n",
       "</style>\n",
       "<table border=\"1\" class=\"dataframe\">\n",
       "  <thead>\n",
       "    <tr style=\"text-align: right;\">\n",
       "      <th></th>\n",
       "      <th>Alcohol</th>\n",
       "      <th>Malic_Acid</th>\n",
       "      <th>Ash</th>\n",
       "      <th>Ash_Alcanity</th>\n",
       "      <th>Magnesium</th>\n",
       "      <th>Total_Phenols</th>\n",
       "      <th>Flavanoids</th>\n",
       "      <th>Nonflavanoid_Phenols</th>\n",
       "      <th>Proanthocyanins</th>\n",
       "      <th>Color_Intensity</th>\n",
       "      <th>Hue</th>\n",
       "      <th>OD280</th>\n",
       "      <th>Proline</th>\n",
       "    </tr>\n",
       "  </thead>\n",
       "  <tbody>\n",
       "    <tr>\n",
       "      <th>0</th>\n",
       "      <td>14.23</td>\n",
       "      <td>1.71</td>\n",
       "      <td>2.43</td>\n",
       "      <td>15.6</td>\n",
       "      <td>127</td>\n",
       "      <td>2.80</td>\n",
       "      <td>3.06</td>\n",
       "      <td>0.28</td>\n",
       "      <td>2.29</td>\n",
       "      <td>5.64</td>\n",
       "      <td>1.04</td>\n",
       "      <td>3.92</td>\n",
       "      <td>1065</td>\n",
       "    </tr>\n",
       "    <tr>\n",
       "      <th>1</th>\n",
       "      <td>13.20</td>\n",
       "      <td>1.78</td>\n",
       "      <td>2.14</td>\n",
       "      <td>11.2</td>\n",
       "      <td>100</td>\n",
       "      <td>2.65</td>\n",
       "      <td>2.76</td>\n",
       "      <td>0.26</td>\n",
       "      <td>1.28</td>\n",
       "      <td>4.38</td>\n",
       "      <td>1.05</td>\n",
       "      <td>3.40</td>\n",
       "      <td>1050</td>\n",
       "    </tr>\n",
       "    <tr>\n",
       "      <th>2</th>\n",
       "      <td>13.16</td>\n",
       "      <td>2.36</td>\n",
       "      <td>2.67</td>\n",
       "      <td>18.6</td>\n",
       "      <td>101</td>\n",
       "      <td>2.80</td>\n",
       "      <td>3.24</td>\n",
       "      <td>0.30</td>\n",
       "      <td>2.81</td>\n",
       "      <td>5.68</td>\n",
       "      <td>1.03</td>\n",
       "      <td>3.17</td>\n",
       "      <td>1185</td>\n",
       "    </tr>\n",
       "    <tr>\n",
       "      <th>3</th>\n",
       "      <td>14.37</td>\n",
       "      <td>1.95</td>\n",
       "      <td>2.50</td>\n",
       "      <td>16.8</td>\n",
       "      <td>113</td>\n",
       "      <td>3.85</td>\n",
       "      <td>3.49</td>\n",
       "      <td>0.24</td>\n",
       "      <td>2.18</td>\n",
       "      <td>7.80</td>\n",
       "      <td>0.86</td>\n",
       "      <td>3.45</td>\n",
       "      <td>1480</td>\n",
       "    </tr>\n",
       "    <tr>\n",
       "      <th>4</th>\n",
       "      <td>13.24</td>\n",
       "      <td>2.59</td>\n",
       "      <td>2.87</td>\n",
       "      <td>21.0</td>\n",
       "      <td>118</td>\n",
       "      <td>2.80</td>\n",
       "      <td>2.69</td>\n",
       "      <td>0.39</td>\n",
       "      <td>1.82</td>\n",
       "      <td>4.32</td>\n",
       "      <td>1.04</td>\n",
       "      <td>2.93</td>\n",
       "      <td>735</td>\n",
       "    </tr>\n",
       "  </tbody>\n",
       "</table>\n",
       "</div>"
      ],
      "text/plain": [
       "   Alcohol  Malic_Acid   Ash  Ash_Alcanity  Magnesium  Total_Phenols  \\\n",
       "0    14.23        1.71  2.43          15.6        127           2.80   \n",
       "1    13.20        1.78  2.14          11.2        100           2.65   \n",
       "2    13.16        2.36  2.67          18.6        101           2.80   \n",
       "3    14.37        1.95  2.50          16.8        113           3.85   \n",
       "4    13.24        2.59  2.87          21.0        118           2.80   \n",
       "\n",
       "   Flavanoids  Nonflavanoid_Phenols  Proanthocyanins  Color_Intensity   Hue  \\\n",
       "0        3.06                  0.28             2.29             5.64  1.04   \n",
       "1        2.76                  0.26             1.28             4.38  1.05   \n",
       "2        3.24                  0.30             2.81             5.68  1.03   \n",
       "3        3.49                  0.24             2.18             7.80  0.86   \n",
       "4        2.69                  0.39             1.82             4.32  1.04   \n",
       "\n",
       "   OD280  Proline  \n",
       "0   3.92     1065  \n",
       "1   3.40     1050  \n",
       "2   3.17     1185  \n",
       "3   3.45     1480  \n",
       "4   2.93      735  "
      ]
     },
     "execution_count": 2,
     "metadata": {},
     "output_type": "execute_result"
    }
   ],
   "source": [
    "wine_data = pd.read_csv(\"Wine.csv\")\n",
    "wine_data.head()"
   ]
  },
  {
   "cell_type": "code",
   "execution_count": 3,
   "id": "14f8ba0f",
   "metadata": {},
   "outputs": [
    {
     "data": {
      "text/plain": [
       "(178, 13)"
      ]
     },
     "execution_count": 3,
     "metadata": {},
     "output_type": "execute_result"
    }
   ],
   "source": [
    "wine_data.shape"
   ]
  },
  {
   "cell_type": "code",
   "execution_count": 4,
   "id": "b4600c15",
   "metadata": {},
   "outputs": [
    {
     "name": "stdout",
     "output_type": "stream",
     "text": [
      "<class 'pandas.core.frame.DataFrame'>\n",
      "RangeIndex: 178 entries, 0 to 177\n",
      "Data columns (total 13 columns):\n",
      " #   Column                Non-Null Count  Dtype  \n",
      "---  ------                --------------  -----  \n",
      " 0   Alcohol               178 non-null    float64\n",
      " 1   Malic_Acid            178 non-null    float64\n",
      " 2   Ash                   178 non-null    float64\n",
      " 3   Ash_Alcanity          178 non-null    float64\n",
      " 4   Magnesium             178 non-null    int64  \n",
      " 5   Total_Phenols         178 non-null    float64\n",
      " 6   Flavanoids            178 non-null    float64\n",
      " 7   Nonflavanoid_Phenols  178 non-null    float64\n",
      " 8   Proanthocyanins       178 non-null    float64\n",
      " 9   Color_Intensity       178 non-null    float64\n",
      " 10  Hue                   178 non-null    float64\n",
      " 11  OD280                 178 non-null    float64\n",
      " 12  Proline               178 non-null    int64  \n",
      "dtypes: float64(11), int64(2)\n",
      "memory usage: 18.2 KB\n"
     ]
    }
   ],
   "source": [
    "wine_data.info()"
   ]
  },
  {
   "cell_type": "markdown",
   "id": "cea2942c",
   "metadata": {},
   "source": [
    "Checking for null values : "
   ]
  },
  {
   "cell_type": "code",
   "execution_count": 5,
   "id": "ef3acef5",
   "metadata": {},
   "outputs": [
    {
     "data": {
      "text/plain": [
       "Alcohol                 0\n",
       "Malic_Acid              0\n",
       "Ash                     0\n",
       "Ash_Alcanity            0\n",
       "Magnesium               0\n",
       "Total_Phenols           0\n",
       "Flavanoids              0\n",
       "Nonflavanoid_Phenols    0\n",
       "Proanthocyanins         0\n",
       "Color_Intensity         0\n",
       "Hue                     0\n",
       "OD280                   0\n",
       "Proline                 0\n",
       "dtype: int64"
      ]
     },
     "execution_count": 5,
     "metadata": {},
     "output_type": "execute_result"
    }
   ],
   "source": [
    "wine_data.isnull().sum()"
   ]
  },
  {
   "cell_type": "markdown",
   "id": "7801c768",
   "metadata": {},
   "source": [
    "> No Null Values present in our Dataset"
   ]
  },
  {
   "cell_type": "code",
   "execution_count": 6,
   "id": "3a2647ef",
   "metadata": {},
   "outputs": [
    {
     "data": {
      "image/png": "[encoded data removed]",
      "text/plain": [
       "<Figure size 864x720 with 2 Axes>"
      ]
     },
     "metadata": {
      "needs_background": "light"
     },
     "output_type": "display_data"
    }
   ],
   "source": [
    "# Making a Correlation Matrix\n",
    "\n",
    "corr = wine_data.corr()\n",
    "\n",
    "plt.figure(figsize=(12,10))\n",
    "\n",
    "sns.heatmap(corr, annot=True, linewidths=0.2);"
   ]
  },
  {
   "cell_type": "code",
   "execution_count": 7,
   "id": "5983cfe7",
   "metadata": {},
   "outputs": [],
   "source": [
    "###  Making the Boxplot of Original data set"
   ]
  },
  {
   "cell_type": "code",
   "execution_count": 8,
   "id": "ce1a2df0",
   "metadata": {},
   "outputs": [
    {
     "data": {
      "image/png": "[encoded data removed]",
      "text/plain": [
       "<Figure size 1296x576 with 1 Axes>"
      ]
     },
     "metadata": {
      "needs_background": "light"
     },
     "output_type": "display_data"
    }
   ],
   "source": [
    "plt.figure(figsize=(18,8))\n",
    "sns.boxplot(data= wine_data)\n",
    "plt.xticks(rotation = 90);"
   ]
  },
  {
   "cell_type": "markdown",
   "id": "a6ea49f5",
   "metadata": {},
   "source": [
    "Creating a **duplicate** of the original dataset."
   ]
  },
  {
   "cell_type": "code",
   "execution_count": 9,
   "id": "8ebe68b4",
   "metadata": {},
   "outputs": [
    {
     "data": {
      "text/html": [
       "<div>\n",
       "<style scoped>\n",
       "    .dataframe tbody tr th:only-of-type {\n",
       "        vertical-align: middle;\n",
       "    }\n",
       "\n",
       "    .dataframe tbody tr th {\n",
       "        vertical-align: top;\n",
       "    }\n",
       "\n",
       "    .dataframe thead th {\n",
       "        text-align: right;\n",
       "    }\n",
       "</style>\n",
       "<table border=\"1\" class=\"dataframe\">\n",
       "  <thead>\n",
       "    <tr style=\"text-align: right;\">\n",
       "      <th></th>\n",
       "      <th>Alcohol</th>\n",
       "      <th>Malic_Acid</th>\n",
       "      <th>Ash</th>\n",
       "      <th>Ash_Alcanity</th>\n",
       "      <th>Magnesium</th>\n",
       "      <th>Total_Phenols</th>\n",
       "      <th>Flavanoids</th>\n",
       "      <th>Nonflavanoid_Phenols</th>\n",
       "      <th>Proanthocyanins</th>\n",
       "      <th>Color_Intensity</th>\n",
       "      <th>Hue</th>\n",
       "      <th>OD280</th>\n",
       "      <th>Proline</th>\n",
       "    </tr>\n",
       "  </thead>\n",
       "  <tbody>\n",
       "    <tr>\n",
       "      <th>0</th>\n",
       "      <td>14.23</td>\n",
       "      <td>1.71</td>\n",
       "      <td>2.43</td>\n",
       "      <td>15.6</td>\n",
       "      <td>127</td>\n",
       "      <td>2.80</td>\n",
       "      <td>3.06</td>\n",
       "      <td>0.28</td>\n",
       "      <td>2.29</td>\n",
       "      <td>5.64</td>\n",
       "      <td>1.04</td>\n",
       "      <td>3.92</td>\n",
       "      <td>1065</td>\n",
       "    </tr>\n",
       "    <tr>\n",
       "      <th>1</th>\n",
       "      <td>13.20</td>\n",
       "      <td>1.78</td>\n",
       "      <td>2.14</td>\n",
       "      <td>11.2</td>\n",
       "      <td>100</td>\n",
       "      <td>2.65</td>\n",
       "      <td>2.76</td>\n",
       "      <td>0.26</td>\n",
       "      <td>1.28</td>\n",
       "      <td>4.38</td>\n",
       "      <td>1.05</td>\n",
       "      <td>3.40</td>\n",
       "      <td>1050</td>\n",
       "    </tr>\n",
       "    <tr>\n",
       "      <th>2</th>\n",
       "      <td>13.16</td>\n",
       "      <td>2.36</td>\n",
       "      <td>2.67</td>\n",
       "      <td>18.6</td>\n",
       "      <td>101</td>\n",
       "      <td>2.80</td>\n",
       "      <td>3.24</td>\n",
       "      <td>0.30</td>\n",
       "      <td>2.81</td>\n",
       "      <td>5.68</td>\n",
       "      <td>1.03</td>\n",
       "      <td>3.17</td>\n",
       "      <td>1185</td>\n",
       "    </tr>\n",
       "    <tr>\n",
       "      <th>3</th>\n",
       "      <td>14.37</td>\n",
       "      <td>1.95</td>\n",
       "      <td>2.50</td>\n",
       "      <td>16.8</td>\n",
       "      <td>113</td>\n",
       "      <td>3.85</td>\n",
       "      <td>3.49</td>\n",
       "      <td>0.24</td>\n",
       "      <td>2.18</td>\n",
       "      <td>7.80</td>\n",
       "      <td>0.86</td>\n",
       "      <td>3.45</td>\n",
       "      <td>1480</td>\n",
       "    </tr>\n",
       "    <tr>\n",
       "      <th>4</th>\n",
       "      <td>13.24</td>\n",
       "      <td>2.59</td>\n",
       "      <td>2.87</td>\n",
       "      <td>21.0</td>\n",
       "      <td>118</td>\n",
       "      <td>2.80</td>\n",
       "      <td>2.69</td>\n",
       "      <td>0.39</td>\n",
       "      <td>1.82</td>\n",
       "      <td>4.32</td>\n",
       "      <td>1.04</td>\n",
       "      <td>2.93</td>\n",
       "      <td>735</td>\n",
       "    </tr>\n",
       "  </tbody>\n",
       "</table>\n",
       "</div>"
      ],
      "text/plain": [
       "   Alcohol  Malic_Acid   Ash  Ash_Alcanity  Magnesium  Total_Phenols  \\\n",
       "0    14.23        1.71  2.43          15.6        127           2.80   \n",
       "1    13.20        1.78  2.14          11.2        100           2.65   \n",
       "2    13.16        2.36  2.67          18.6        101           2.80   \n",
       "3    14.37        1.95  2.50          16.8        113           3.85   \n",
       "4    13.24        2.59  2.87          21.0        118           2.80   \n",
       "\n",
       "   Flavanoids  Nonflavanoid_Phenols  Proanthocyanins  Color_Intensity   Hue  \\\n",
       "0        3.06                  0.28             2.29             5.64  1.04   \n",
       "1        2.76                  0.26             1.28             4.38  1.05   \n",
       "2        3.24                  0.30             2.81             5.68  1.03   \n",
       "3        3.49                  0.24             2.18             7.80  0.86   \n",
       "4        2.69                  0.39             1.82             4.32  1.04   \n",
       "\n",
       "   OD280  Proline  \n",
       "0   3.92     1065  \n",
       "1   3.40     1050  \n",
       "2   3.17     1185  \n",
       "3   3.45     1480  \n",
       "4   2.93      735  "
      ]
     },
     "execution_count": 9,
     "metadata": {},
     "output_type": "execute_result"
    }
   ],
   "source": [
    "# Creating a dupicate file\n",
    "\n",
    "duplic_wine = wine_data.copy()\n",
    "duplic_wine.head()"
   ]
  },
  {
   "cell_type": "markdown",
   "id": "7ee1db1a",
   "metadata": {},
   "source": [
    "### Checking for outliers : "
   ]
  },
  {
   "cell_type": "markdown",
   "id": "c6735f8d",
   "metadata": {},
   "source": [
    "* Checking for outliers in `Malic_Acid` Column :"
   ]
  },
  {
   "cell_type": "code",
   "execution_count": 10,
   "id": "47dbbd44",
   "metadata": {},
   "outputs": [
    {
     "data": {
      "text/plain": [
       "<AxesSubplot:>"
      ]
     },
     "execution_count": 10,
     "metadata": {},
     "output_type": "execute_result"
    },
    {
     "data": {
      "image/png": "[encoded data removed]",
      "text/plain": [
       "<Figure size 432x288 with 1 Axes>"
      ]
     },
     "metadata": {
      "needs_background": "light"
     },
     "output_type": "display_data"
    }
   ],
   "source": [
    "sns.boxplot(data = duplic_wine[\"Malic_Acid\"])"
   ]
  },
  {
   "cell_type": "code",
   "execution_count": 11,
   "id": "682999c4",
   "metadata": {},
   "outputs": [
    {
     "name": "stdout",
     "output_type": "stream",
     "text": [
      "The 1st Qaurtile is :  1.6025\n",
      "The second quartile is :  1.8650000000000002\n",
      "The third quartile is :  3.0825\n",
      "\n",
      "The IQR is :  1.48\n",
      "\n",
      "The upper limit =  5.3025\n",
      "The lower limit =  -0.6174999999999997\n",
      "\n",
      "The outlier values are : [5.8, 5.51, 5.65]\n",
      "\n",
      "The outlier indexs are : Int64Index([123, 137, 173], dtype='int64')\n"
     ]
    },
    {
     "data": {
      "text/plain": [
       "(175, 13)"
      ]
     },
     "execution_count": 11,
     "metadata": {},
     "output_type": "execute_result"
    }
   ],
   "source": [
    "Q1 = duplic_wine[\"Malic_Acid\"].quantile(0.25)\n",
    "Q2 = duplic_wine[\"Malic_Acid\"].quantile(0.5)\n",
    "Q3 = duplic_wine[\"Malic_Acid\"].quantile(0.75)\n",
    "\n",
    "IQR = Q3 - Q1\n",
    "\n",
    "u_limit = Q3 + 1.5 * IQR\n",
    "l_limit = Q1 - 1.5 * IQR\n",
    "\n",
    "print(\"The 1st Qaurtile is : \", Q1)\n",
    "print(\"The second quartile is : \", Q2)\n",
    "print(\"The third quartile is : \", Q3)\n",
    "print(\"\\nThe IQR is : \", IQR)\n",
    "print(\"\\nThe upper limit = \", u_limit)\n",
    "print(\"The lower limit = \", l_limit)\n",
    "\n",
    "\n",
    "outliers = []\n",
    "for x in duplic_wine[\"Malic_Acid\"]:\n",
    "    if (x < l_limit) or (x > u_limit):\n",
    "        outliers.append(x)\n",
    "\n",
    "print(f\"\\nThe outlier values are : {outliers}\")\n",
    "\n",
    "Index = duplic_wine[(duplic_wine[\"Malic_Acid\"] > u_limit) | (duplic_wine[\"Malic_Acid\"] < l_limit)].index\n",
    "print(f\"\\nThe outlier indexs are : {Index}\")\n",
    "\n",
    "duplic_wine.drop(Index, inplace=True)\n",
    "duplic_wine.shape"
   ]
  },
  {
   "cell_type": "code",
   "execution_count": 12,
   "id": "1783a700",
   "metadata": {},
   "outputs": [
    {
     "data": {
      "text/plain": [
       "<AxesSubplot:>"
      ]
     },
     "execution_count": 12,
     "metadata": {},
     "output_type": "execute_result"
    },
    {
     "data": {
      "image/png": "[encoded data removed]",
      "text/plain": [
       "<Figure size 432x288 with 1 Axes>"
      ]
     },
     "metadata": {
      "needs_background": "light"
     },
     "output_type": "display_data"
    }
   ],
   "source": [
    "sns.boxplot(data = duplic_wine[\"Malic_Acid\"])"
   ]
  },
  {
   "cell_type": "markdown",
   "id": "45d5334a",
   "metadata": {},
   "source": [
    "> * Checking for Outliers in `Ash` Feature :"
   ]
  },
  {
   "cell_type": "code",
   "execution_count": 13,
   "id": "5195f5ba",
   "metadata": {},
   "outputs": [
    {
     "data": {
      "text/plain": [
       "<AxesSubplot:>"
      ]
     },
     "execution_count": 13,
     "metadata": {},
     "output_type": "execute_result"
    },
    {
     "data": {
      "image/png": "[encoded data removed]",
      "text/plain": [
       "<Figure size 432x288 with 1 Axes>"
      ]
     },
     "metadata": {
      "needs_background": "light"
     },
     "output_type": "display_data"
    }
   ],
   "source": [
    "sns.boxplot(data = wine_data[\"Ash\"])"
   ]
  },
  {
   "cell_type": "code",
   "execution_count": 14,
   "id": "b07e006f",
   "metadata": {},
   "outputs": [
    {
     "name": "stdout",
     "output_type": "stream",
     "text": [
      "The 1st Qaurtile is :  2.21\n",
      "The second quartile is :  2.36\n",
      "The third quartile is :  2.5549999999999997\n",
      "\n",
      "The IQR is :  0.34499999999999975\n",
      "\n",
      "The upper limit =  3.0724999999999993\n",
      "The lower limit =  1.6925000000000003\n",
      "\n",
      "The outlier values are : [3.22, 1.36, 3.23]\n",
      "\n",
      "The outlier indexs are : Int64Index([25, 59, 121], dtype='int64')\n"
     ]
    },
    {
     "data": {
      "text/plain": [
       "(172, 13)"
      ]
     },
     "execution_count": 14,
     "metadata": {},
     "output_type": "execute_result"
    }
   ],
   "source": [
    "Q1 = duplic_wine[\"Ash\"].quantile(0.25)\n",
    "Q2 = duplic_wine[\"Ash\"].quantile(0.5)\n",
    "Q3 = duplic_wine[\"Ash\"].quantile(0.75)\n",
    "\n",
    "IQR = Q3 - Q1\n",
    "\n",
    "u_limit = Q3 + 1.5 * IQR\n",
    "l_limit = Q1 - 1.5 * IQR\n",
    "\n",
    "print(\"The 1st Qaurtile is : \", Q1)\n",
    "print(\"The second quartile is : \", Q2)\n",
    "print(\"The third quartile is : \", Q3)\n",
    "print(\"\\nThe IQR is : \", IQR)\n",
    "print(\"\\nThe upper limit = \", u_limit)\n",
    "print(\"The lower limit = \", l_limit)\n",
    "\n",
    "\n",
    "outliers = []\n",
    "for x in duplic_wine[\"Ash\"]:\n",
    "    if (x < l_limit) or (x > u_limit):\n",
    "        outliers.append(x)\n",
    "\n",
    "print(f\"\\nThe outlier values are : {outliers}\")\n",
    "\n",
    "Index = duplic_wine[(duplic_wine[\"Ash\"] > u_limit) | (duplic_wine[\"Ash\"] < l_limit)].index\n",
    "print(f\"\\nThe outlier indexs are : {Index}\")\n",
    "\n",
    "duplic_wine.drop(Index, inplace=True)\n",
    "duplic_wine.shape"
   ]
  },
  {
   "cell_type": "code",
   "execution_count": 15,
   "id": "7d57372e",
   "metadata": {},
   "outputs": [
    {
     "data": {
      "text/plain": [
       "<AxesSubplot:>"
      ]
     },
     "execution_count": 15,
     "metadata": {},
     "output_type": "execute_result"
    },
    {
     "data": {
      "image/png": "[encoded data removed]",
      "text/plain": [
       "<Figure size 432x288 with 1 Axes>"
      ]
     },
     "metadata": {
      "needs_background": "light"
     },
     "output_type": "display_data"
    }
   ],
   "source": [
    "sns.boxplot(data = duplic_wine[\"Ash\"])"
   ]
  },
  {
   "cell_type": "markdown",
   "id": "9d745174",
   "metadata": {},
   "source": [
    "> * Checking for ouliers in `Ash_Alcanity` Feature :"
   ]
  },
  {
   "cell_type": "code",
   "execution_count": 16,
   "id": "3d5f253f",
   "metadata": {},
   "outputs": [
    {
     "data": {
      "text/plain": [
       "<AxesSubplot:>"
      ]
     },
     "execution_count": 16,
     "metadata": {},
     "output_type": "execute_result"
    },
    {
     "data": {
      "image/png": "[encoded data removed]",
      "text/plain": [
       "<Figure size 432x288 with 1 Axes>"
      ]
     },
     "metadata": {
      "needs_background": "light"
     },
     "output_type": "display_data"
    }
   ],
   "source": [
    "sns.boxplot(data = wine_data[\"Ash_Alcanity\"])"
   ]
  },
  {
   "cell_type": "code",
   "execution_count": 17,
   "id": "c71c842b",
   "metadata": {},
   "outputs": [
    {
     "name": "stdout",
     "output_type": "stream",
     "text": [
      "The 1st Qaurtile is :  17.175\n",
      "The second quartile is :  19.25\n",
      "The third quartile is :  21.5\n",
      "\n",
      "The IQR is :  4.324999999999999\n",
      "\n",
      "The upper limit =  27.987499999999997\n",
      "The lower limit =  10.687500000000002\n",
      "\n",
      "The outlier values are : [30.0, 28.5]\n",
      "\n",
      "The outlier indexs are : Int64Index([73, 127], dtype='int64')\n"
     ]
    },
    {
     "data": {
      "text/plain": [
       "(170, 13)"
      ]
     },
     "execution_count": 17,
     "metadata": {},
     "output_type": "execute_result"
    }
   ],
   "source": [
    "Q1 = duplic_wine[\"Ash_Alcanity\"].quantile(0.25)\n",
    "Q2 = duplic_wine[\"Ash_Alcanity\"].quantile(0.5)\n",
    "Q3 = duplic_wine[\"Ash_Alcanity\"].quantile(0.75)\n",
    "\n",
    "IQR = Q3 - Q1\n",
    "\n",
    "u_limit = Q3 + 1.5 * IQR\n",
    "l_limit = Q1 - 1.5 * IQR\n",
    "\n",
    "print(\"The 1st Qaurtile is : \", Q1)\n",
    "print(\"The second quartile is : \", Q2)\n",
    "print(\"The third quartile is : \", Q3)\n",
    "print(\"\\nThe IQR is : \", IQR)\n",
    "print(\"\\nThe upper limit = \", u_limit)\n",
    "print(\"The lower limit = \", l_limit)\n",
    "\n",
    "\n",
    "outliers = []\n",
    "for x in duplic_wine[\"Ash_Alcanity\"]:\n",
    "    if (x < l_limit) or (x > u_limit):\n",
    "        outliers.append(x)\n",
    "\n",
    "print(f\"\\nThe outlier values are : {outliers}\")\n",
    "\n",
    "Index = duplic_wine[(duplic_wine[\"Ash_Alcanity\"] > u_limit) | (duplic_wine[\"Ash_Alcanity\"] < l_limit)].index\n",
    "print(f\"\\nThe outlier indexs are : {Index}\")\n",
    "\n",
    "duplic_wine.drop(Index, inplace=True)\n",
    "duplic_wine.shape"
   ]
  },
  {
   "cell_type": "code",
   "execution_count": 18,
   "id": "7b8b1aff",
   "metadata": {},
   "outputs": [
    {
     "data": {
      "text/plain": [
       "<AxesSubplot:>"
      ]
     },
     "execution_count": 18,
     "metadata": {},
     "output_type": "execute_result"
    },
    {
     "data": {
      "image/png": "[encoded data removed]",
      "text/plain": [
       "<Figure size 432x288 with 1 Axes>"
      ]
     },
     "metadata": {
      "needs_background": "light"
     },
     "output_type": "display_data"
    }
   ],
   "source": [
    "sns.boxplot(data = duplic_wine[\"Ash_Alcanity\"])"
   ]
  },
  {
   "cell_type": "markdown",
   "id": "6de272a8",
   "metadata": {},
   "source": [
    "> * Checking for outliers in `Magnesium` Feature : "
   ]
  },
  {
   "cell_type": "code",
   "execution_count": 19,
   "id": "b0bcdcad",
   "metadata": {},
   "outputs": [
    {
     "data": {
      "text/plain": [
       "<AxesSubplot:>"
      ]
     },
     "execution_count": 19,
     "metadata": {},
     "output_type": "execute_result"
    },
    {
     "data": {
      "image/png": "[encoded data removed]",
      "text/plain": [
       "<Figure size 432x288 with 1 Axes>"
      ]
     },
     "metadata": {
      "needs_background": "light"
     },
     "output_type": "display_data"
    }
   ],
   "source": [
    "sns.boxplot(data = wine_data[\"Magnesium\"])"
   ]
  },
  {
   "cell_type": "code",
   "execution_count": 20,
   "id": "22b4d860",
   "metadata": {},
   "outputs": [
    {
     "name": "stdout",
     "output_type": "stream",
     "text": [
      "The 1st Qaurtile is :  88.0\n",
      "The second quartile is :  98.0\n",
      "The third quartile is :  107.0\n",
      "\n",
      "The IQR is :  19.0\n",
      "\n",
      "The upper limit =  135.5\n",
      "The lower limit =  59.5\n",
      "\n",
      "The outlier values are : [151, 136, 162]\n",
      "\n",
      "The outlier indexs are : Int64Index([69, 78, 95], dtype='int64')\n"
     ]
    },
    {
     "data": {
      "text/plain": [
       "(167, 13)"
      ]
     },
     "execution_count": 20,
     "metadata": {},
     "output_type": "execute_result"
    }
   ],
   "source": [
    "Q1 = duplic_wine[\"Magnesium\"].quantile(0.25)\n",
    "Q2 = duplic_wine[\"Magnesium\"].quantile(0.5)\n",
    "Q3 = duplic_wine[\"Magnesium\"].quantile(0.75)\n",
    "\n",
    "IQR = Q3 - Q1\n",
    "\n",
    "u_limit = Q3 + 1.5 * IQR\n",
    "l_limit = Q1 - 1.5 * IQR\n",
    "\n",
    "print(\"The 1st Qaurtile is : \", Q1)\n",
    "print(\"The second quartile is : \", Q2)\n",
    "print(\"The third quartile is : \", Q3)\n",
    "print(\"\\nThe IQR is : \", IQR)\n",
    "print(\"\\nThe upper limit = \", u_limit)\n",
    "print(\"The lower limit = \", l_limit)\n",
    "\n",
    "\n",
    "outliers = []\n",
    "for x in duplic_wine[\"Magnesium\"]:\n",
    "    if (x < l_limit) or (x > u_limit):\n",
    "        outliers.append(x)\n",
    "\n",
    "print(f\"\\nThe outlier values are : {outliers}\")\n",
    "\n",
    "Index = duplic_wine[(duplic_wine[\"Magnesium\"] > u_limit) | (duplic_wine[\"Magnesium\"] < l_limit)].index\n",
    "print(f\"\\nThe outlier indexs are : {Index}\")\n",
    "\n",
    "duplic_wine.drop(Index, inplace=True)\n",
    "duplic_wine.shape"
   ]
  },
  {
   "cell_type": "code",
   "execution_count": 21,
   "id": "afcd63e1",
   "metadata": {},
   "outputs": [
    {
     "data": {
      "text/plain": [
       "<AxesSubplot:>"
      ]
     },
     "execution_count": 21,
     "metadata": {},
     "output_type": "execute_result"
    },
    {
     "data": {
      "image/png": "[encoded data removed]",
      "text/plain": [
       "<Figure size 432x288 with 1 Axes>"
      ]
     },
     "metadata": {
      "needs_background": "light"
     },
     "output_type": "display_data"
    }
   ],
   "source": [
    "sns.boxplot(data = duplic_wine[\"Magnesium\"])"
   ]
  },
  {
   "cell_type": "markdown",
   "id": "70f34136",
   "metadata": {},
   "source": [
    "> * Checking for outliers in ` Proanthocyanins ` feature : `"
   ]
  },
  {
   "cell_type": "code",
   "execution_count": 22,
   "id": "2bfe2610",
   "metadata": {},
   "outputs": [
    {
     "data": {
      "text/plain": [
       "<AxesSubplot:>"
      ]
     },
     "execution_count": 22,
     "metadata": {},
     "output_type": "execute_result"
    },
    {
     "data": {
      "image/png": "[encoded data removed]",
      "text/plain": [
       "<Figure size 432x288 with 1 Axes>"
      ]
     },
     "metadata": {
      "needs_background": "light"
     },
     "output_type": "display_data"
    }
   ],
   "source": [
    "sns.boxplot(data = wine_data[\"Proanthocyanins\"])"
   ]
  },
  {
   "cell_type": "code",
   "execution_count": 23,
   "id": "c03ddb65",
   "metadata": {},
   "outputs": [
    {
     "name": "stdout",
     "output_type": "stream",
     "text": [
      "The 1st Qaurtile is :  1.25\n",
      "The second quartile is :  1.54\n",
      "The third quartile is :  1.9249999999999998\n",
      "\n",
      "The IQR is :  0.6749999999999998\n",
      "\n",
      "The upper limit =  2.9374999999999996\n",
      "The lower limit =  0.23750000000000027\n",
      "\n",
      "The outlier values are : [2.96, 3.58]\n",
      "\n",
      "The outlier indexs are : Int64Index([14, 110], dtype='int64')\n"
     ]
    },
    {
     "data": {
      "text/plain": [
       "(165, 13)"
      ]
     },
     "execution_count": 23,
     "metadata": {},
     "output_type": "execute_result"
    }
   ],
   "source": [
    "Q1 = duplic_wine[\"Proanthocyanins\"].quantile(0.25)\n",
    "Q2 = duplic_wine[\"Proanthocyanins\"].quantile(0.5)\n",
    "Q3 = duplic_wine[\"Proanthocyanins\"].quantile(0.75)\n",
    "\n",
    "IQR = Q3 - Q1\n",
    "\n",
    "u_limit = Q3 + 1.5 * IQR\n",
    "l_limit = Q1 - 1.5 * IQR\n",
    "\n",
    "print(\"The 1st Qaurtile is : \", Q1)\n",
    "print(\"The second quartile is : \", Q2)\n",
    "print(\"The third quartile is : \", Q3)\n",
    "print(\"\\nThe IQR is : \", IQR)\n",
    "print(\"\\nThe upper limit = \", u_limit)\n",
    "print(\"The lower limit = \", l_limit)\n",
    "\n",
    "\n",
    "outliers = []\n",
    "for x in duplic_wine[\"Proanthocyanins\"]:\n",
    "    if (x < l_limit) or (x > u_limit):\n",
    "        outliers.append(x)\n",
    "\n",
    "print(f\"\\nThe outlier values are : {outliers}\")\n",
    "\n",
    "Index = duplic_wine[(duplic_wine[\"Proanthocyanins\"] > u_limit) | (duplic_wine[\"Proanthocyanins\"] < l_limit)].index\n",
    "print(f\"\\nThe outlier indexs are : {Index}\")\n",
    "\n",
    "duplic_wine.drop(Index, inplace=True)\n",
    "duplic_wine.shape"
   ]
  },
  {
   "cell_type": "code",
   "execution_count": 24,
   "id": "a7176fd0",
   "metadata": {},
   "outputs": [
    {
     "data": {
      "text/plain": [
       "<AxesSubplot:>"
      ]
     },
     "execution_count": 24,
     "metadata": {},
     "output_type": "execute_result"
    },
    {
     "data": {
      "image/png": "[encoded data removed]",
      "text/plain": [
       "<Figure size 432x288 with 1 Axes>"
      ]
     },
     "metadata": {
      "needs_background": "light"
     },
     "output_type": "display_data"
    }
   ],
   "source": [
    "sns.boxplot(data = duplic_wine[\"Proanthocyanins\"])"
   ]
  },
  {
   "cell_type": "markdown",
   "id": "1e01d2dd",
   "metadata": {},
   "source": [
    "> * Checking for the outliers in `Color_Intensity` feature : "
   ]
  },
  {
   "cell_type": "code",
   "execution_count": 25,
   "id": "029a4231",
   "metadata": {},
   "outputs": [
    {
     "data": {
      "text/plain": [
       "<AxesSubplot:>"
      ]
     },
     "execution_count": 25,
     "metadata": {},
     "output_type": "execute_result"
    },
    {
     "data": {
      "image/png": "[encoded data removed]",
      "text/plain": [
       "<Figure size 432x288 with 1 Axes>"
      ]
     },
     "metadata": {
      "needs_background": "light"
     },
     "output_type": "display_data"
    }
   ],
   "source": [
    "sns.boxplot(data = wine_data[\"Color_Intensity\"])"
   ]
  },
  {
   "cell_type": "code",
   "execution_count": 26,
   "id": "2c06f0cc",
   "metadata": {},
   "outputs": [
    {
     "name": "stdout",
     "output_type": "stream",
     "text": [
      "The 1st Qaurtile is :  3.27\n",
      "The second quartile is :  4.8\n",
      "The third quartile is :  6.25\n",
      "\n",
      "The IQR is :  2.98\n",
      "\n",
      "The upper limit =  10.719999999999999\n",
      "The lower limit =  -1.1999999999999997\n",
      "\n",
      "The outlier values are : [10.8, 13.0, 11.75]\n",
      "\n",
      "The outlier indexs are : Int64Index([151, 158, 159], dtype='int64')\n"
     ]
    },
    {
     "data": {
      "text/plain": [
       "(162, 13)"
      ]
     },
     "execution_count": 26,
     "metadata": {},
     "output_type": "execute_result"
    }
   ],
   "source": [
    "Q1 = duplic_wine[\"Color_Intensity\"].quantile(0.25)\n",
    "Q2 = duplic_wine[\"Color_Intensity\"].quantile(0.5)\n",
    "Q3 = duplic_wine[\"Color_Intensity\"].quantile(0.75)\n",
    "\n",
    "IQR = Q3 - Q1\n",
    "\n",
    "u_limit = Q3 + 1.5 * IQR\n",
    "l_limit = Q1 - 1.5 * IQR\n",
    "\n",
    "print(\"The 1st Qaurtile is : \", Q1)\n",
    "print(\"The second quartile is : \", Q2)\n",
    "print(\"The third quartile is : \", Q3)\n",
    "print(\"\\nThe IQR is : \", IQR)\n",
    "print(\"\\nThe upper limit = \", u_limit)\n",
    "print(\"The lower limit = \", l_limit)\n",
    "\n",
    "\n",
    "outliers = []\n",
    "for x in duplic_wine[\"Color_Intensity\"]:\n",
    "    if (x < l_limit) or (x > u_limit):\n",
    "        outliers.append(x)\n",
    "\n",
    "print(f\"\\nThe outlier values are : {outliers}\")\n",
    "\n",
    "Index = duplic_wine[(duplic_wine[\"Color_Intensity\"] > u_limit) | (duplic_wine[\"Color_Intensity\"] < l_limit)].index\n",
    "print(f\"\\nThe outlier indexs are : {Index}\")\n",
    "\n",
    "duplic_wine.drop(Index, inplace=True)\n",
    "duplic_wine.shape"
   ]
  },
  {
   "cell_type": "code",
   "execution_count": 27,
   "id": "c40e8ac9",
   "metadata": {},
   "outputs": [
    {
     "data": {
      "text/plain": [
       "<AxesSubplot:>"
      ]
     },
     "execution_count": 27,
     "metadata": {},
     "output_type": "execute_result"
    },
    {
     "data": {
      "image/png": "[encoded data removed]",
      "text/plain": [
       "<Figure size 432x288 with 1 Axes>"
      ]
     },
     "metadata": {
      "needs_background": "light"
     },
     "output_type": "display_data"
    }
   ],
   "source": [
    "sns.boxplot(data = duplic_wine[\"Color_Intensity\"])"
   ]
  },
  {
   "cell_type": "markdown",
   "id": "5c0968a4",
   "metadata": {},
   "source": [
    "> * Checking for outliers in `Hue` feature : "
   ]
  },
  {
   "cell_type": "code",
   "execution_count": 28,
   "id": "08b33901",
   "metadata": {},
   "outputs": [
    {
     "data": {
      "text/plain": [
       "<AxesSubplot:>"
      ]
     },
     "execution_count": 28,
     "metadata": {},
     "output_type": "execute_result"
    },
    {
     "data": {
      "image/png": "[encoded data removed]",
      "text/plain": [
       "<Figure size 432x288 with 1 Axes>"
      ]
     },
     "metadata": {
      "needs_background": "light"
     },
     "output_type": "display_data"
    }
   ],
   "source": [
    "sns.boxplot(data = wine_data[\"Hue\"])"
   ]
  },
  {
   "cell_type": "code",
   "execution_count": 29,
   "id": "69c7a55b",
   "metadata": {},
   "outputs": [
    {
     "name": "stdout",
     "output_type": "stream",
     "text": [
      "The 1st Qaurtile is :  0.7925\n",
      "The second quartile is :  0.97\n",
      "The third quartile is :  1.12\n",
      "\n",
      "The IQR is :  0.3275000000000001\n",
      "\n",
      "The upper limit =  1.6112500000000003\n",
      "The lower limit =  0.3012499999999998\n",
      "\n",
      "The outlier values are : [1.71]\n",
      "\n",
      "The outlier indexs are : Int64Index([115], dtype='int64')\n"
     ]
    },
    {
     "data": {
      "text/plain": [
       "(161, 13)"
      ]
     },
     "execution_count": 29,
     "metadata": {},
     "output_type": "execute_result"
    }
   ],
   "source": [
    "Q1 = duplic_wine[\"Hue\"].quantile(0.25)\n",
    "Q2 = duplic_wine[\"Hue\"].quantile(0.5)\n",
    "Q3 = duplic_wine[\"Hue\"].quantile(0.75)\n",
    "\n",
    "IQR = Q3 - Q1\n",
    "\n",
    "u_limit = Q3 + 1.5 * IQR\n",
    "l_limit = Q1 - 1.5 * IQR\n",
    "\n",
    "print(\"The 1st Qaurtile is : \", Q1)\n",
    "print(\"The second quartile is : \", Q2)\n",
    "print(\"The third quartile is : \", Q3)\n",
    "print(\"\\nThe IQR is : \", IQR)\n",
    "print(\"\\nThe upper limit = \", u_limit)\n",
    "print(\"The lower limit = \", l_limit)\n",
    "\n",
    "\n",
    "outliers = []\n",
    "for x in duplic_wine[\"Hue\"]:\n",
    "    if (x < l_limit) or (x > u_limit):\n",
    "        outliers.append(x)\n",
    "\n",
    "print(f\"\\nThe outlier values are : {outliers}\")\n",
    "\n",
    "Index = duplic_wine[(duplic_wine[\"Hue\"] > u_limit) | (duplic_wine[\"Hue\"] < l_limit)].index\n",
    "print(f\"\\nThe outlier indexs are : {Index}\")\n",
    "\n",
    "duplic_wine.drop(Index, inplace=True)\n",
    "duplic_wine.shape"
   ]
  },
  {
   "cell_type": "code",
   "execution_count": 30,
   "id": "323fa10e",
   "metadata": {},
   "outputs": [
    {
     "data": {
      "text/plain": [
       "<AxesSubplot:>"
      ]
     },
     "execution_count": 30,
     "metadata": {},
     "output_type": "execute_result"
    },
    {
     "data": {
      "image/png": "[encoded data removed]",
      "text/plain": [
       "<Figure size 432x288 with 1 Axes>"
      ]
     },
     "metadata": {
      "needs_background": "light"
     },
     "output_type": "display_data"
    }
   ],
   "source": [
    "sns.boxplot(data = duplic_wine[\"Hue\"])"
   ]
  },
  {
   "cell_type": "code",
   "execution_count": 31,
   "id": "1bab2e9f",
   "metadata": {},
   "outputs": [
    {
     "data": {
      "image/png": "[encoded data removed]",
      "text/plain": [
       "<Figure size 1296x576 with 1 Axes>"
      ]
     },
     "metadata": {
      "needs_background": "light"
     },
     "output_type": "display_data"
    }
   ],
   "source": [
    "plt.figure(figsize=(18,8))\n",
    "sns.boxplot(data= duplic_wine)\n",
    "plt.xticks(rotation = 90);"
   ]
  },
  {
   "cell_type": "markdown",
   "id": "2fe2c2bf",
   "metadata": {},
   "source": [
    "> Now we have treated all the outliers present in our dataset."
   ]
  },
  {
   "cell_type": "code",
   "execution_count": 32,
   "id": "b94017fc",
   "metadata": {},
   "outputs": [
    {
     "data": {
      "text/html": [
       "<div>\n",
       "<style scoped>\n",
       "    .dataframe tbody tr th:only-of-type {\n",
       "        vertical-align: middle;\n",
       "    }\n",
       "\n",
       "    .dataframe tbody tr th {\n",
       "        vertical-align: top;\n",
       "    }\n",
       "\n",
       "    .dataframe thead th {\n",
       "        text-align: right;\n",
       "    }\n",
       "</style>\n",
       "<table border=\"1\" class=\"dataframe\">\n",
       "  <thead>\n",
       "    <tr style=\"text-align: right;\">\n",
       "      <th></th>\n",
       "      <th>Alcohol</th>\n",
       "      <th>Malic_Acid</th>\n",
       "      <th>Ash</th>\n",
       "      <th>Ash_Alcanity</th>\n",
       "      <th>Magnesium</th>\n",
       "      <th>Total_Phenols</th>\n",
       "      <th>Flavanoids</th>\n",
       "      <th>Nonflavanoid_Phenols</th>\n",
       "      <th>Proanthocyanins</th>\n",
       "      <th>Color_Intensity</th>\n",
       "      <th>Hue</th>\n",
       "      <th>OD280</th>\n",
       "      <th>Proline</th>\n",
       "    </tr>\n",
       "  </thead>\n",
       "  <tbody>\n",
       "    <tr>\n",
       "      <th>count</th>\n",
       "      <td>161.000000</td>\n",
       "      <td>161.000000</td>\n",
       "      <td>161.000000</td>\n",
       "      <td>161.000000</td>\n",
       "      <td>161.000000</td>\n",
       "      <td>161.000000</td>\n",
       "      <td>161.000000</td>\n",
       "      <td>161.000000</td>\n",
       "      <td>161.000000</td>\n",
       "      <td>161.000000</td>\n",
       "      <td>161.000000</td>\n",
       "      <td>161.000000</td>\n",
       "      <td>161.000000</td>\n",
       "    </tr>\n",
       "    <tr>\n",
       "      <th>mean</th>\n",
       "      <td>13.034596</td>\n",
       "      <td>2.318199</td>\n",
       "      <td>2.364658</td>\n",
       "      <td>19.300621</td>\n",
       "      <td>98.590062</td>\n",
       "      <td>2.280435</td>\n",
       "      <td>2.026894</td>\n",
       "      <td>0.359006</td>\n",
       "      <td>1.538758</td>\n",
       "      <td>5.033913</td>\n",
       "      <td>0.956932</td>\n",
       "      <td>2.619876</td>\n",
       "      <td>753.819876</td>\n",
       "    </tr>\n",
       "    <tr>\n",
       "      <th>std</th>\n",
       "      <td>0.791422</td>\n",
       "      <td>1.053406</td>\n",
       "      <td>0.241922</td>\n",
       "      <td>2.974149</td>\n",
       "      <td>12.401347</td>\n",
       "      <td>0.628964</td>\n",
       "      <td>0.981421</td>\n",
       "      <td>0.121821</td>\n",
       "      <td>0.513838</td>\n",
       "      <td>2.155207</td>\n",
       "      <td>0.217376</td>\n",
       "      <td>0.713409</td>\n",
       "      <td>317.816297</td>\n",
       "    </tr>\n",
       "    <tr>\n",
       "      <th>min</th>\n",
       "      <td>11.410000</td>\n",
       "      <td>0.740000</td>\n",
       "      <td>1.700000</td>\n",
       "      <td>11.200000</td>\n",
       "      <td>70.000000</td>\n",
       "      <td>0.980000</td>\n",
       "      <td>0.340000</td>\n",
       "      <td>0.130000</td>\n",
       "      <td>0.410000</td>\n",
       "      <td>1.280000</td>\n",
       "      <td>0.540000</td>\n",
       "      <td>1.270000</td>\n",
       "      <td>278.000000</td>\n",
       "    </tr>\n",
       "    <tr>\n",
       "      <th>25%</th>\n",
       "      <td>12.370000</td>\n",
       "      <td>1.610000</td>\n",
       "      <td>2.230000</td>\n",
       "      <td>17.200000</td>\n",
       "      <td>88.000000</td>\n",
       "      <td>1.700000</td>\n",
       "      <td>1.200000</td>\n",
       "      <td>0.270000</td>\n",
       "      <td>1.240000</td>\n",
       "      <td>3.270000</td>\n",
       "      <td>0.790000</td>\n",
       "      <td>2.000000</td>\n",
       "      <td>502.000000</td>\n",
       "    </tr>\n",
       "    <tr>\n",
       "      <th>50%</th>\n",
       "      <td>13.070000</td>\n",
       "      <td>1.860000</td>\n",
       "      <td>2.360000</td>\n",
       "      <td>19.000000</td>\n",
       "      <td>98.000000</td>\n",
       "      <td>2.320000</td>\n",
       "      <td>2.130000</td>\n",
       "      <td>0.340000</td>\n",
       "      <td>1.480000</td>\n",
       "      <td>4.800000</td>\n",
       "      <td>0.960000</td>\n",
       "      <td>2.780000</td>\n",
       "      <td>675.000000</td>\n",
       "    </tr>\n",
       "    <tr>\n",
       "      <th>75%</th>\n",
       "      <td>13.690000</td>\n",
       "      <td>3.100000</td>\n",
       "      <td>2.540000</td>\n",
       "      <td>21.000000</td>\n",
       "      <td>106.000000</td>\n",
       "      <td>2.800000</td>\n",
       "      <td>2.900000</td>\n",
       "      <td>0.430000</td>\n",
       "      <td>1.870000</td>\n",
       "      <td>6.200000</td>\n",
       "      <td>1.120000</td>\n",
       "      <td>3.180000</td>\n",
       "      <td>1020.000000</td>\n",
       "    </tr>\n",
       "    <tr>\n",
       "      <th>max</th>\n",
       "      <td>14.830000</td>\n",
       "      <td>5.190000</td>\n",
       "      <td>2.920000</td>\n",
       "      <td>27.000000</td>\n",
       "      <td>134.000000</td>\n",
       "      <td>3.880000</td>\n",
       "      <td>3.930000</td>\n",
       "      <td>0.660000</td>\n",
       "      <td>2.910000</td>\n",
       "      <td>10.680000</td>\n",
       "      <td>1.450000</td>\n",
       "      <td>4.000000</td>\n",
       "      <td>1680.000000</td>\n",
       "    </tr>\n",
       "  </tbody>\n",
       "</table>\n",
       "</div>"
      ],
      "text/plain": [
       "          Alcohol  Malic_Acid         Ash  Ash_Alcanity   Magnesium  \\\n",
       "count  161.000000  161.000000  161.000000    161.000000  161.000000   \n",
       "mean    13.034596    2.318199    2.364658     19.300621   98.590062   \n",
       "std      0.791422    1.053406    0.241922      2.974149   12.401347   \n",
       "min     11.410000    0.740000    1.700000     11.200000   70.000000   \n",
       "25%     12.370000    1.610000    2.230000     17.200000   88.000000   \n",
       "50%     13.070000    1.860000    2.360000     19.000000   98.000000   \n",
       "75%     13.690000    3.100000    2.540000     21.000000  106.000000   \n",
       "max     14.830000    5.190000    2.920000     27.000000  134.000000   \n",
       "\n",
       "       Total_Phenols  Flavanoids  Nonflavanoid_Phenols  Proanthocyanins  \\\n",
       "count     161.000000  161.000000            161.000000       161.000000   \n",
       "mean        2.280435    2.026894              0.359006         1.538758   \n",
       "std         0.628964    0.981421              0.121821         0.513838   \n",
       "min         0.980000    0.340000              0.130000         0.410000   \n",
       "25%         1.700000    1.200000              0.270000         1.240000   \n",
       "50%         2.320000    2.130000              0.340000         1.480000   \n",
       "75%         2.800000    2.900000              0.430000         1.870000   \n",
       "max         3.880000    3.930000              0.660000         2.910000   \n",
       "\n",
       "       Color_Intensity         Hue       OD280      Proline  \n",
       "count       161.000000  161.000000  161.000000   161.000000  \n",
       "mean          5.033913    0.956932    2.619876   753.819876  \n",
       "std           2.155207    0.217376    0.713409   317.816297  \n",
       "min           1.280000    0.540000    1.270000   278.000000  \n",
       "25%           3.270000    0.790000    2.000000   502.000000  \n",
       "50%           4.800000    0.960000    2.780000   675.000000  \n",
       "75%           6.200000    1.120000    3.180000  1020.000000  \n",
       "max          10.680000    1.450000    4.000000  1680.000000  "
      ]
     },
     "execution_count": 32,
     "metadata": {},
     "output_type": "execute_result"
    }
   ],
   "source": [
    "duplic_wine.describe()"
   ]
  },
  {
   "cell_type": "markdown",
   "id": "63ec38bb",
   "metadata": {},
   "source": [
    "### We can see that the scales are varying for different parameters, so we'll try standard scaling and normalizing our data first"
   ]
  },
  {
   "cell_type": "code",
   "execution_count": 33,
   "id": "1fdb4807",
   "metadata": {},
   "outputs": [],
   "source": [
    "# Creating 2 duplicates of the outlier removed data.\n",
    "\n",
    "dup_stdscaled = duplic_wine.copy()\n",
    "\n",
    "dup_norm = duplic_wine.copy()"
   ]
  },
  {
   "cell_type": "markdown",
   "id": "3e28c660",
   "metadata": {},
   "source": [
    "Making a Standard scaled Dataset :"
   ]
  },
  {
   "cell_type": "code",
   "execution_count": 34,
   "id": "89ecb7dc",
   "metadata": {},
   "outputs": [
    {
     "data": {
      "text/html": [
       "<div>\n",
       "<style scoped>\n",
       "    .dataframe tbody tr th:only-of-type {\n",
       "        vertical-align: middle;\n",
       "    }\n",
       "\n",
       "    .dataframe tbody tr th {\n",
       "        vertical-align: top;\n",
       "    }\n",
       "\n",
       "    .dataframe thead th {\n",
       "        text-align: right;\n",
       "    }\n",
       "</style>\n",
       "<table border=\"1\" class=\"dataframe\">\n",
       "  <thead>\n",
       "    <tr style=\"text-align: right;\">\n",
       "      <th></th>\n",
       "      <th>0</th>\n",
       "      <th>1</th>\n",
       "      <th>2</th>\n",
       "      <th>3</th>\n",
       "      <th>4</th>\n",
       "      <th>5</th>\n",
       "      <th>6</th>\n",
       "      <th>7</th>\n",
       "      <th>8</th>\n",
       "      <th>9</th>\n",
       "      <th>10</th>\n",
       "      <th>11</th>\n",
       "      <th>12</th>\n",
       "    </tr>\n",
       "  </thead>\n",
       "  <tbody>\n",
       "    <tr>\n",
       "      <th>count</th>\n",
       "      <td>1.610000e+02</td>\n",
       "      <td>1.610000e+02</td>\n",
       "      <td>1.610000e+02</td>\n",
       "      <td>1.610000e+02</td>\n",
       "      <td>1.610000e+02</td>\n",
       "      <td>1.610000e+02</td>\n",
       "      <td>1.610000e+02</td>\n",
       "      <td>1.610000e+02</td>\n",
       "      <td>1.610000e+02</td>\n",
       "      <td>1.610000e+02</td>\n",
       "      <td>1.610000e+02</td>\n",
       "      <td>1.610000e+02</td>\n",
       "      <td>1.610000e+02</td>\n",
       "    </tr>\n",
       "    <tr>\n",
       "      <th>mean</th>\n",
       "      <td>3.082420e-15</td>\n",
       "      <td>-1.130910e-16</td>\n",
       "      <td>8.936951e-16</td>\n",
       "      <td>-7.033711e-17</td>\n",
       "      <td>-2.770386e-16</td>\n",
       "      <td>1.999781e-17</td>\n",
       "      <td>-5.047722e-16</td>\n",
       "      <td>-3.020358e-16</td>\n",
       "      <td>-4.585704e-17</td>\n",
       "      <td>2.358362e-16</td>\n",
       "      <td>9.336907e-16</td>\n",
       "      <td>-8.137038e-17</td>\n",
       "      <td>-2.965192e-17</td>\n",
       "    </tr>\n",
       "    <tr>\n",
       "      <th>std</th>\n",
       "      <td>1.003120e+00</td>\n",
       "      <td>1.003120e+00</td>\n",
       "      <td>1.003120e+00</td>\n",
       "      <td>1.003120e+00</td>\n",
       "      <td>1.003120e+00</td>\n",
       "      <td>1.003120e+00</td>\n",
       "      <td>1.003120e+00</td>\n",
       "      <td>1.003120e+00</td>\n",
       "      <td>1.003120e+00</td>\n",
       "      <td>1.003120e+00</td>\n",
       "      <td>1.003120e+00</td>\n",
       "      <td>1.003120e+00</td>\n",
       "      <td>1.003120e+00</td>\n",
       "    </tr>\n",
       "    <tr>\n",
       "      <th>min</th>\n",
       "      <td>-2.059161e+00</td>\n",
       "      <td>-1.502862e+00</td>\n",
       "      <td>-2.755979e+00</td>\n",
       "      <td>-2.732175e+00</td>\n",
       "      <td>-2.312593e+00</td>\n",
       "      <td>-2.074034e+00</td>\n",
       "      <td>-1.724192e+00</td>\n",
       "      <td>-1.885730e+00</td>\n",
       "      <td>-2.203572e+00</td>\n",
       "      <td>-1.747222e+00</td>\n",
       "      <td>-1.924002e+00</td>\n",
       "      <td>-1.898052e+00</td>\n",
       "      <td>-1.501825e+00</td>\n",
       "    </tr>\n",
       "    <tr>\n",
       "      <th>25%</th>\n",
       "      <td>-8.423697e-01</td>\n",
       "      <td>-6.743920e-01</td>\n",
       "      <td>-5.583556e-01</td>\n",
       "      <td>-7.084969e-01</td>\n",
       "      <td>-8.566089e-01</td>\n",
       "      <td>-9.257223e-01</td>\n",
       "      <td>-8.451773e-01</td>\n",
       "      <td>-7.329132e-01</td>\n",
       "      <td>-5.832379e-01</td>\n",
       "      <td>-8.209962e-01</td>\n",
       "      <td>-7.703344e-01</td>\n",
       "      <td>-8.716036e-01</td>\n",
       "      <td>-7.948163e-01</td>\n",
       "    </tr>\n",
       "    <tr>\n",
       "      <th>50%</th>\n",
       "      <td>4.487390e-02</td>\n",
       "      <td>-4.363261e-01</td>\n",
       "      <td>-1.931581e-02</td>\n",
       "      <td>-1.013934e-01</td>\n",
       "      <td>-4.772894e-02</td>\n",
       "      <td>6.310167e-02</td>\n",
       "      <td>1.053853e-01</td>\n",
       "      <td>-1.565048e-01</td>\n",
       "      <td>-1.147075e-01</td>\n",
       "      <td>-1.088726e-01</td>\n",
       "      <td>1.415929e-02</td>\n",
       "      <td>2.251497e-01</td>\n",
       "      <td>-2.487783e-01</td>\n",
       "    </tr>\n",
       "    <tr>\n",
       "      <th>75%</th>\n",
       "      <td>8.307182e-01</td>\n",
       "      <td>7.444810e-01</td>\n",
       "      <td>7.270469e-01</td>\n",
       "      <td>5.731660e-01</td>\n",
       "      <td>5.993751e-01</td>\n",
       "      <td>8.286428e-01</td>\n",
       "      <td>8.924102e-01</td>\n",
       "      <td>5.845916e-01</td>\n",
       "      <td>6.466544e-01</td>\n",
       "      <td>5.427439e-01</td>\n",
       "      <td>7.525063e-01</td>\n",
       "      <td>7.875873e-01</td>\n",
       "      <td>8.401414e-01</td>\n",
       "    </tr>\n",
       "    <tr>\n",
       "      <th>max</th>\n",
       "      <td>2.275658e+00</td>\n",
       "      <td>2.734712e+00</td>\n",
       "      <td>2.302702e+00</td>\n",
       "      <td>2.596844e+00</td>\n",
       "      <td>2.864239e+00</td>\n",
       "      <td>2.551110e+00</td>\n",
       "      <td>1.945184e+00</td>\n",
       "      <td>2.478505e+00</td>\n",
       "      <td>2.676953e+00</td>\n",
       "      <td>2.627916e+00</td>\n",
       "      <td>2.275347e+00</td>\n",
       "      <td>1.940584e+00</td>\n",
       "      <td>2.923292e+00</td>\n",
       "    </tr>\n",
       "  </tbody>\n",
       "</table>\n",
       "</div>"
      ],
      "text/plain": [
       "                 0             1             2             3             4   \\\n",
       "count  1.610000e+02  1.610000e+02  1.610000e+02  1.610000e+02  1.610000e+02   \n",
       "mean   3.082420e-15 -1.130910e-16  8.936951e-16 -7.033711e-17 -2.770386e-16   \n",
       "std    1.003120e+00  1.003120e+00  1.003120e+00  1.003120e+00  1.003120e+00   \n",
       "min   -2.059161e+00 -1.502862e+00 -2.755979e+00 -2.732175e+00 -2.312593e+00   \n",
       "25%   -8.423697e-01 -6.743920e-01 -5.583556e-01 -7.084969e-01 -8.566089e-01   \n",
       "50%    4.487390e-02 -4.363261e-01 -1.931581e-02 -1.013934e-01 -4.772894e-02   \n",
       "75%    8.307182e-01  7.444810e-01  7.270469e-01  5.731660e-01  5.993751e-01   \n",
       "max    2.275658e+00  2.734712e+00  2.302702e+00  2.596844e+00  2.864239e+00   \n",
       "\n",
       "                 5             6             7             8             9   \\\n",
       "count  1.610000e+02  1.610000e+02  1.610000e+02  1.610000e+02  1.610000e+02   \n",
       "mean   1.999781e-17 -5.047722e-16 -3.020358e-16 -4.585704e-17  2.358362e-16   \n",
       "std    1.003120e+00  1.003120e+00  1.003120e+00  1.003120e+00  1.003120e+00   \n",
       "min   -2.074034e+00 -1.724192e+00 -1.885730e+00 -2.203572e+00 -1.747222e+00   \n",
       "25%   -9.257223e-01 -8.451773e-01 -7.329132e-01 -5.832379e-01 -8.209962e-01   \n",
       "50%    6.310167e-02  1.053853e-01 -1.565048e-01 -1.147075e-01 -1.088726e-01   \n",
       "75%    8.286428e-01  8.924102e-01  5.845916e-01  6.466544e-01  5.427439e-01   \n",
       "max    2.551110e+00  1.945184e+00  2.478505e+00  2.676953e+00  2.627916e+00   \n",
       "\n",
       "                 10            11            12  \n",
       "count  1.610000e+02  1.610000e+02  1.610000e+02  \n",
       "mean   9.336907e-16 -8.137038e-17 -2.965192e-17  \n",
       "std    1.003120e+00  1.003120e+00  1.003120e+00  \n",
       "min   -1.924002e+00 -1.898052e+00 -1.501825e+00  \n",
       "25%   -7.703344e-01 -8.716036e-01 -7.948163e-01  \n",
       "50%    1.415929e-02  2.251497e-01 -2.487783e-01  \n",
       "75%    7.525063e-01  7.875873e-01  8.401414e-01  \n",
       "max    2.275347e+00  1.940584e+00  2.923292e+00  "
      ]
     },
     "execution_count": 34,
     "metadata": {},
     "output_type": "execute_result"
    }
   ],
   "source": [
    "#### Standard scaling our dataset.\n",
    "\n",
    "from sklearn.preprocessing import StandardScaler\n",
    "\n",
    "ss = StandardScaler()\n",
    "scaled_data = ss.fit_transform(dup_stdscaled)\n",
    "\n",
    "pd.DataFrame(scaled_data).describe()"
   ]
  },
  {
   "cell_type": "markdown",
   "id": "a6aea00f",
   "metadata": {},
   "source": [
    "Making a Normalized dataset :"
   ]
  },
  {
   "cell_type": "code",
   "execution_count": 35,
   "id": "8f1dc3ef",
   "metadata": {},
   "outputs": [
    {
     "data": {
      "text/html": [
       "<div>\n",
       "<style scoped>\n",
       "    .dataframe tbody tr th:only-of-type {\n",
       "        vertical-align: middle;\n",
       "    }\n",
       "\n",
       "    .dataframe tbody tr th {\n",
       "        vertical-align: top;\n",
       "    }\n",
       "\n",
       "    .dataframe thead th {\n",
       "        text-align: right;\n",
       "    }\n",
       "</style>\n",
       "<table border=\"1\" class=\"dataframe\">\n",
       "  <thead>\n",
       "    <tr style=\"text-align: right;\">\n",
       "      <th></th>\n",
       "      <th>0</th>\n",
       "      <th>1</th>\n",
       "      <th>2</th>\n",
       "      <th>3</th>\n",
       "      <th>4</th>\n",
       "      <th>5</th>\n",
       "      <th>6</th>\n",
       "      <th>7</th>\n",
       "      <th>8</th>\n",
       "      <th>9</th>\n",
       "      <th>10</th>\n",
       "      <th>11</th>\n",
       "      <th>12</th>\n",
       "    </tr>\n",
       "  </thead>\n",
       "  <tbody>\n",
       "    <tr>\n",
       "      <th>count</th>\n",
       "      <td>161.000000</td>\n",
       "      <td>161.000000</td>\n",
       "      <td>161.000000</td>\n",
       "      <td>161.000000</td>\n",
       "      <td>161.000000</td>\n",
       "      <td>161.000000</td>\n",
       "      <td>161.000000</td>\n",
       "      <td>161.000000</td>\n",
       "      <td>161.000000</td>\n",
       "      <td>161.000000</td>\n",
       "      <td>161.000000</td>\n",
       "      <td>161.000000</td>\n",
       "      <td>161.000000</td>\n",
       "    </tr>\n",
       "    <tr>\n",
       "      <th>mean</th>\n",
       "      <td>0.019901</td>\n",
       "      <td>0.003643</td>\n",
       "      <td>0.003620</td>\n",
       "      <td>0.030667</td>\n",
       "      <td>0.149208</td>\n",
       "      <td>0.003396</td>\n",
       "      <td>0.002937</td>\n",
       "      <td>0.000573</td>\n",
       "      <td>0.002307</td>\n",
       "      <td>0.007234</td>\n",
       "      <td>0.001471</td>\n",
       "      <td>0.003983</td>\n",
       "      <td>0.986361</td>\n",
       "    </tr>\n",
       "    <tr>\n",
       "      <th>std</th>\n",
       "      <td>0.007458</td>\n",
       "      <td>0.002338</td>\n",
       "      <td>0.001403</td>\n",
       "      <td>0.014559</td>\n",
       "      <td>0.054661</td>\n",
       "      <td>0.001545</td>\n",
       "      <td>0.001724</td>\n",
       "      <td>0.000324</td>\n",
       "      <td>0.001201</td>\n",
       "      <td>0.003520</td>\n",
       "      <td>0.000733</td>\n",
       "      <td>0.001999</td>\n",
       "      <td>0.010238</td>\n",
       "    </tr>\n",
       "    <tr>\n",
       "      <th>min</th>\n",
       "      <td>0.008428</td>\n",
       "      <td>0.000944</td>\n",
       "      <td>0.001473</td>\n",
       "      <td>0.009800</td>\n",
       "      <td>0.064147</td>\n",
       "      <td>0.001255</td>\n",
       "      <td>0.000637</td>\n",
       "      <td>0.000145</td>\n",
       "      <td>0.000554</td>\n",
       "      <td>0.002241</td>\n",
       "      <td>0.000579</td>\n",
       "      <td>0.001675</td>\n",
       "      <td>0.951812</td>\n",
       "    </tr>\n",
       "    <tr>\n",
       "      <th>25%</th>\n",
       "      <td>0.013438</td>\n",
       "      <td>0.001687</td>\n",
       "      <td>0.002353</td>\n",
       "      <td>0.017452</td>\n",
       "      <td>0.104447</td>\n",
       "      <td>0.002376</td>\n",
       "      <td>0.001742</td>\n",
       "      <td>0.000276</td>\n",
       "      <td>0.001468</td>\n",
       "      <td>0.004708</td>\n",
       "      <td>0.000969</td>\n",
       "      <td>0.002521</td>\n",
       "      <td>0.982112</td>\n",
       "    </tr>\n",
       "    <tr>\n",
       "      <th>50%</th>\n",
       "      <td>0.018566</td>\n",
       "      <td>0.003196</td>\n",
       "      <td>0.003437</td>\n",
       "      <td>0.029500</td>\n",
       "      <td>0.143578</td>\n",
       "      <td>0.002916</td>\n",
       "      <td>0.002724</td>\n",
       "      <td>0.000511</td>\n",
       "      <td>0.001970</td>\n",
       "      <td>0.005984</td>\n",
       "      <td>0.001192</td>\n",
       "      <td>0.003381</td>\n",
       "      <td>0.988987</td>\n",
       "    </tr>\n",
       "    <tr>\n",
       "      <th>75%</th>\n",
       "      <td>0.024834</td>\n",
       "      <td>0.004940</td>\n",
       "      <td>0.004466</td>\n",
       "      <td>0.039810</td>\n",
       "      <td>0.180956</td>\n",
       "      <td>0.003795</td>\n",
       "      <td>0.003549</td>\n",
       "      <td>0.000834</td>\n",
       "      <td>0.002779</td>\n",
       "      <td>0.008564</td>\n",
       "      <td>0.001827</td>\n",
       "      <td>0.004866</td>\n",
       "      <td>0.994260</td>\n",
       "    </tr>\n",
       "    <tr>\n",
       "      <th>max</th>\n",
       "      <td>0.041106</td>\n",
       "      <td>0.011903</td>\n",
       "      <td>0.007305</td>\n",
       "      <td>0.069703</td>\n",
       "      <td>0.297958</td>\n",
       "      <td>0.008404</td>\n",
       "      <td>0.008671</td>\n",
       "      <td>0.002008</td>\n",
       "      <td>0.007469</td>\n",
       "      <td>0.020690</td>\n",
       "      <td>0.004727</td>\n",
       "      <td>0.010858</td>\n",
       "      <td>0.997835</td>\n",
       "    </tr>\n",
       "  </tbody>\n",
       "</table>\n",
       "</div>"
      ],
      "text/plain": [
       "               0           1           2           3           4           5   \\\n",
       "count  161.000000  161.000000  161.000000  161.000000  161.000000  161.000000   \n",
       "mean     0.019901    0.003643    0.003620    0.030667    0.149208    0.003396   \n",
       "std      0.007458    0.002338    0.001403    0.014559    0.054661    0.001545   \n",
       "min      0.008428    0.000944    0.001473    0.009800    0.064147    0.001255   \n",
       "25%      0.013438    0.001687    0.002353    0.017452    0.104447    0.002376   \n",
       "50%      0.018566    0.003196    0.003437    0.029500    0.143578    0.002916   \n",
       "75%      0.024834    0.004940    0.004466    0.039810    0.180956    0.003795   \n",
       "max      0.041106    0.011903    0.007305    0.069703    0.297958    0.008404   \n",
       "\n",
       "               6           7           8           9           10          11  \\\n",
       "count  161.000000  161.000000  161.000000  161.000000  161.000000  161.000000   \n",
       "mean     0.002937    0.000573    0.002307    0.007234    0.001471    0.003983   \n",
       "std      0.001724    0.000324    0.001201    0.003520    0.000733    0.001999   \n",
       "min      0.000637    0.000145    0.000554    0.002241    0.000579    0.001675   \n",
       "25%      0.001742    0.000276    0.001468    0.004708    0.000969    0.002521   \n",
       "50%      0.002724    0.000511    0.001970    0.005984    0.001192    0.003381   \n",
       "75%      0.003549    0.000834    0.002779    0.008564    0.001827    0.004866   \n",
       "max      0.008671    0.002008    0.007469    0.020690    0.004727    0.010858   \n",
       "\n",
       "               12  \n",
       "count  161.000000  \n",
       "mean     0.986361  \n",
       "std      0.010238  \n",
       "min      0.951812  \n",
       "25%      0.982112  \n",
       "50%      0.988987  \n",
       "75%      0.994260  \n",
       "max      0.997835  "
      ]
     },
     "execution_count": 35,
     "metadata": {},
     "output_type": "execute_result"
    }
   ],
   "source": [
    "#### Normalizing our Data\n",
    "\n",
    "from sklearn.preprocessing import Normalizer\n",
    "\n",
    "norm = Normalizer()\n",
    "norm_data = norm.fit_transform(dup_norm)\n",
    "\n",
    "pd.DataFrame(norm_data).describe()"
   ]
  },
  {
   "cell_type": "markdown",
   "id": "519b0631",
   "metadata": {},
   "source": [
    "Now we have both the `Standardized` as well as the `normalized` data seperately for our model making."
   ]
  },
  {
   "cell_type": "markdown",
   "id": "e673ab24",
   "metadata": {},
   "source": [
    "# 2.) Trying out different clustering models in the wine dataset. : "
   ]
  },
  {
   "cell_type": "markdown",
   "id": "664564fb",
   "metadata": {},
   "source": [
    "## 1.) Making a K-Means Model "
   ]
  },
  {
   "cell_type": "markdown",
   "id": "0610686c",
   "metadata": {},
   "source": [
    "###  Finding the Optimum number of Clusters"
   ]
  },
  {
   "cell_type": "markdown",
   "id": "5b739c13",
   "metadata": {},
   "source": [
    "* Using Elbow method to find the optimum clusters for both the dataset."
   ]
  },
  {
   "cell_type": "code",
   "execution_count": 36,
   "id": "17837ffd",
   "metadata": {},
   "outputs": [
    {
     "name": "stderr",
     "output_type": "stream",
     "text": [
      "C:\\Users\\101me\\anaconda3\\lib\\site-packages\\sklearn\\cluster\\_kmeans.py:881: UserWarning: KMeans is known to have a memory leak on Windows with MKL, when there are less chunks than available threads. You can avoid it by setting the environment variable OMP_NUM_THREADS=1.\n",
      "  warnings.warn(\n"
     ]
    },
    {
     "name": "stdout",
     "output_type": "stream",
     "text": [
      "[2092.999999999999, 1453.2302460891567, 1080.418730392, 1001.0061348545388, 940.1886851022987, 884.9787299105392, 860.7188238151482, 798.0191180759131, 765.6852216618523]\n"
     ]
    }
   ],
   "source": [
    "from sklearn.cluster import KMeans\n",
    "\n",
    "# Using Scaled data\n",
    "\n",
    "inertia = []\n",
    "for k in range(1,10):\n",
    "    model = KMeans(n_clusters=k)\n",
    "    model.fit(scaled_data)\n",
    "    inertia.append(model.inertia_)\n",
    "    \n",
    "print(inertia)"
   ]
  },
  {
   "cell_type": "code",
   "execution_count": 37,
   "id": "1433d271",
   "metadata": {},
   "outputs": [
    {
     "data": {
      "text/plain": [
       "Text(0, 0.5, 'Inertia')"
      ]
     },
     "execution_count": 37,
     "metadata": {},
     "output_type": "execute_result"
    },
    {
     "data": {
      "image/png": "[encoded data removed]",
      "text/plain": [
       "<Figure size 432x288 with 1 Axes>"
      ]
     },
     "metadata": {
      "needs_background": "light"
     },
     "output_type": "display_data"
    }
   ],
   "source": [
    "plt.plot(range(1,10),inertia,'-o')\n",
    "plt.xlabel(\"No. of clusters\")\n",
    "plt.ylabel(\"Inertia\")"
   ]
  },
  {
   "cell_type": "markdown",
   "id": "f20a505a",
   "metadata": {},
   "source": [
    "> We can take **3** or **4** as the optimum number for cluster for scaled data."
   ]
  },
  {
   "cell_type": "code",
   "execution_count": 38,
   "id": "48f71f2c",
   "metadata": {},
   "outputs": [
    {
     "name": "stderr",
     "output_type": "stream",
     "text": [
      "C:\\Users\\101me\\anaconda3\\lib\\site-packages\\sklearn\\cluster\\_kmeans.py:881: UserWarning: KMeans is known to have a memory leak on Windows with MKL, when there are less chunks than available threads. You can avoid it by setting the environment variable OMP_NUM_THREADS=1.\n",
      "  warnings.warn(\n"
     ]
    },
    {
     "name": "stdout",
     "output_type": "stream",
     "text": [
      "[0.5426354172490375, 0.19166107751849618, 0.09074482812553744, 0.05062937842266653, 0.032495786635622234, 0.024968024608848085, 0.020876047762441775, 0.018576677014670747, 0.015823462024514907]\n"
     ]
    },
    {
     "data": {
      "text/plain": [
       "Text(0, 0.5, 'Inertia')"
      ]
     },
     "execution_count": 38,
     "metadata": {},
     "output_type": "execute_result"
    },
    {
     "data": {
      "image/png": "[encoded data removed]",
      "text/plain": [
       "<Figure size 432x288 with 1 Axes>"
      ]
     },
     "metadata": {
      "needs_background": "light"
     },
     "output_type": "display_data"
    }
   ],
   "source": [
    "# Using Normalized data\n",
    "\n",
    "inertia_n = []\n",
    "for k in range(1,10):\n",
    "    model_n = KMeans(n_clusters=k)\n",
    "    model_n.fit(norm_data)\n",
    "    inertia_n.append(model_n.inertia_)\n",
    "    \n",
    "print(inertia_n)\n",
    "\n",
    "plt.plot(range(1,10),inertia_n,'-o')\n",
    "plt.xlabel(\"No. of clusters\")\n",
    "plt.ylabel(\"Inertia\")"
   ]
  },
  {
   "cell_type": "markdown",
   "id": "99d3b118",
   "metadata": {},
   "source": [
    "> We can take **3** or **4** as the optimum cluster"
   ]
  },
  {
   "cell_type": "markdown",
   "id": "3765e473",
   "metadata": {},
   "source": [
    "Next we create a model based on the optimum clusters for both the datasets and choose the best one."
   ]
  },
  {
   "cell_type": "markdown",
   "id": "0d8e4da3",
   "metadata": {},
   "source": [
    "#### Creating KMeans Model for `Scaled data`"
   ]
  },
  {
   "cell_type": "code",
   "execution_count": 39,
   "id": "1a9f2dba",
   "metadata": {},
   "outputs": [
    {
     "name": "stdout",
     "output_type": "stream",
     "text": [
      "[2 2 2 2 2 2 2 2 2 2 2 2 2 2 2 2 2 2 2 2 2 2 2 2 2 2 2 2 2 2 2 2 2 2 2 2 2\n",
      " 2 2 2 2 2 2 2 2 2 2 2 2 2 2 2 2 2 2 2 2 1 0 1 1 1 1 1 1 1 1 1 1 1 1 1 1 1\n",
      " 1 1 1 0 1 1 1 1 1 1 1 1 1 1 1 1 1 1 1 1 1 1 1 1 1 1 1 1 1 1 1 1 1 1 1 0 1\n",
      " 1 1 1 1 1 1 1 0 0 0 0 0 0 0 0 0 0 0 0 0 0 0 0 0 0 0 0 0 0 0 0 0 0 0 0 0 0\n",
      " 0 0 0 0 0 0 0 0 0 0 0 0 0]\n"
     ]
    }
   ],
   "source": [
    "# Creating a model with 3 optimum clusters on scaled data\n",
    "\n",
    "kmeans_s = KMeans(n_clusters=3)\n",
    "kmeans_s.fit(scaled_data)\n",
    "label_s = kmeans_s.predict(scaled_data)\n",
    "print(label_s)"
   ]
  },
  {
   "cell_type": "code",
   "execution_count": 40,
   "id": "c96fafec",
   "metadata": {},
   "outputs": [
    {
     "name": "stdout",
     "output_type": "stream",
     "text": [
      "[0 0 0 0 0 0 0 0 0 0 0 0 0 0 0 0 0 0 0 0 0 0 0 0 0 0 0 0 0 0 0 0 0 0 0 0 0\n",
      " 0 0 0 0 0 0 0 0 0 0 0 0 0 0 0 0 0 0 0 0 1 1 1 3 1 3 3 3 1 1 3 1 3 1 3 1 3\n",
      " 3 3 1 2 3 3 1 1 1 1 1 1 1 3 3 1 3 3 3 3 1 3 3 3 1 3 1 3 3 3 1 1 1 3 3 1 3\n",
      " 3 1 3 3 3 3 1 2 2 2 2 1 2 2 2 2 2 2 2 2 2 2 2 2 2 2 2 2 2 2 2 2 2 2 2 2 2\n",
      " 2 2 2 2 2 2 2 2 2 2 2 2 2]\n"
     ]
    }
   ],
   "source": [
    "# Creating a model with 4 optimum cluster on scaled data.\n",
    "\n",
    "kmeans_s1 = KMeans(n_clusters=4)\n",
    "kmeans_s1.fit(scaled_data)\n",
    "label_s1 = kmeans_s1.predict(scaled_data)\n",
    "print(label_s1)"
   ]
  },
  {
   "cell_type": "code",
   "execution_count": 41,
   "id": "87648be6",
   "metadata": {},
   "outputs": [],
   "source": [
    "from sklearn.metrics import silhouette_score"
   ]
  },
  {
   "cell_type": "code",
   "execution_count": 42,
   "id": "4d8512ac",
   "metadata": {},
   "outputs": [
    {
     "name": "stdout",
     "output_type": "stream",
     "text": [
      "Silhouette Score(n=3): 0.3013979201701521\n",
      "\n",
      "Silhouette Score(n=4): 0.24597890962851576\n"
     ]
    }
   ],
   "source": [
    "# Checking the silhouette_score of both models\n",
    "\n",
    "print(f'Silhouette Score(n=3): {silhouette_score(scaled_data, label_s)}')\n",
    "\n",
    "print(f'\\nSilhouette Score(n=4): {silhouette_score(scaled_data, label_s1)}')"
   ]
  },
  {
   "cell_type": "markdown",
   "id": "76b893f3",
   "metadata": {},
   "source": [
    "> *We observe that For `n = 3` (scaled data) , we get a better silhouette_score on scaled data.*"
   ]
  },
  {
   "cell_type": "markdown",
   "id": "b12423f1",
   "metadata": {},
   "source": [
    "#### Creating a model for `Normalized data`"
   ]
  },
  {
   "cell_type": "code",
   "execution_count": 43,
   "id": "94d1d403",
   "metadata": {},
   "outputs": [
    {
     "name": "stdout",
     "output_type": "stream",
     "text": [
      "[2 2 2 2 0 2 2 2 2 2 2 2 2 2 2 2 2 2 0 0 0 2 2 2 2 2 2 2 2 2 2 2 2 2 2 2 2\n",
      " 0 0 2 2 0 2 2 2 2 2 2 2 2 2 2 2 2 2 2 2 0 1 0 1 1 0 0 0 0 2 1 0 2 1 1 1 1\n",
      " 1 2 0 0 0 1 0 0 2 2 0 0 0 1 1 1 0 0 1 0 0 1 1 0 1 0 0 1 0 1 0 1 1 0 1 1 0\n",
      " 0 1 1 1 1 1 0 0 0 0 0 0 0 2 0 0 0 2 0 0 0 2 0 0 0 1 1 1 0 0 0 0 2 0 0 0 0\n",
      " 0 0 0 0 0 0 0 0 0 0 0 0 0]\n"
     ]
    }
   ],
   "source": [
    "# using n = 3\n",
    "\n",
    "kmeans_n = KMeans(n_clusters=3)\n",
    "kmeans_n.fit(norm_data)\n",
    "label_n = kmeans_n.predict(norm_data)\n",
    "print(label_n)"
   ]
  },
  {
   "cell_type": "code",
   "execution_count": 44,
   "id": "09315c3a",
   "metadata": {},
   "outputs": [
    {
     "name": "stdout",
     "output_type": "stream",
     "text": [
      "[0 0 0 0 3 0 0 0 0 0 0 0 0 0 0 0 0 0 3 3 3 0 0 0 0 0 0 0 0 0 0 0 0 0 3 0 0\n",
      " 3 3 0 0 3 3 0 0 0 0 0 0 0 0 0 0 0 3 0 0 3 1 3 1 2 3 3 3 3 0 1 1 0 1 1 1 1\n",
      " 2 3 3 3 1 1 1 3 3 0 3 1 3 2 2 1 1 3 1 3 3 1 1 3 2 3 1 2 3 2 3 1 1 1 2 1 3\n",
      " 3 2 1 1 2 2 3 1 1 1 1 3 3 3 3 1 3 0 1 3 3 3 1 3 3 1 2 2 3 3 3 1 0 3 3 1 3\n",
      " 3 3 3 3 3 1 1 1 3 3 3 3 1]\n"
     ]
    }
   ],
   "source": [
    "# using n = 4,\n",
    "\n",
    "kmeans_n1 = KMeans(n_clusters=4)\n",
    "kmeans_n1.fit(norm_data)\n",
    "label_n1 = kmeans_n1.predict(norm_data)\n",
    "print(label_n1)"
   ]
  },
  {
   "cell_type": "code",
   "execution_count": 45,
   "id": "fcc57593",
   "metadata": {},
   "outputs": [
    {
     "name": "stdout",
     "output_type": "stream",
     "text": [
      "Silhouette Score(n=3): 0.5348566886642946\n",
      "\n",
      "Silhouette Score(n=4): 0.5254475524052948\n"
     ]
    }
   ],
   "source": [
    "# Checking the silhouette_score of both models\n",
    "\n",
    "print(f'Silhouette Score(n=3): {silhouette_score(norm_data, label_n)}')\n",
    "\n",
    "print(f'\\nSilhouette Score(n=4): {silhouette_score(norm_data, label_n1)}')"
   ]
  },
  {
   "cell_type": "markdown",
   "id": "d17e1fe9",
   "metadata": {},
   "source": [
    "*We observe that for **n = 3**, we get a better Silhouette score*"
   ]
  },
  {
   "cell_type": "markdown",
   "id": "50332413",
   "metadata": {},
   "source": [
    "\n",
    "\n",
    "> **Hence we can use the `Normalized data` with `3 Clusters` for our KMeans Model.**"
   ]
  },
  {
   "cell_type": "markdown",
   "id": "f081a1e7",
   "metadata": {},
   "source": [
    "### Next performing PCA on the data to see if it can improve the performance."
   ]
  },
  {
   "cell_type": "code",
   "execution_count": 46,
   "id": "2d86e49a",
   "metadata": {},
   "outputs": [],
   "source": [
    "from sklearn.decomposition import PCA"
   ]
  },
  {
   "cell_type": "code",
   "execution_count": 47,
   "id": "eb0447e5",
   "metadata": {},
   "outputs": [
    {
     "data": {
      "text/plain": [
       "(161, 2)"
      ]
     },
     "execution_count": 47,
     "metadata": {},
     "output_type": "execute_result"
    }
   ],
   "source": [
    "pca = PCA(0.99)\n",
    "\n",
    "norm_pca = pca.fit_transform(norm_data)\n",
    "\n",
    "norm_pca.shape"
   ]
  },
  {
   "cell_type": "markdown",
   "id": "26afc62a",
   "metadata": {},
   "source": [
    "> PCA has reduced our feature count to 2."
   ]
  },
  {
   "cell_type": "code",
   "execution_count": 48,
   "id": "8aaef7c9",
   "metadata": {},
   "outputs": [
    {
     "data": {
      "text/plain": [
       "array([0.98140446, 0.01066812])"
      ]
     },
     "execution_count": 48,
     "metadata": {},
     "output_type": "execute_result"
    }
   ],
   "source": [
    "pca.explained_variance_ratio_"
   ]
  },
  {
   "cell_type": "code",
   "execution_count": 49,
   "id": "34ef87b0",
   "metadata": {},
   "outputs": [
    {
     "name": "stdout",
     "output_type": "stream",
     "text": [
      "[0 0 0 0 2 0 0 0 0 0 0 0 0 0 0 0 0 0 2 2 2 0 0 0 0 0 0 0 0 0 0 0 0 0 0 0 0\n",
      " 2 2 0 0 2 0 0 0 0 0 0 0 0 0 0 0 0 0 0 0 2 1 2 1 1 2 2 2 2 0 1 2 0 1 1 1 1\n",
      " 1 0 2 2 2 1 2 2 0 0 2 2 2 1 1 1 2 2 1 2 2 1 1 2 1 2 2 1 2 1 2 1 1 2 1 1 2\n",
      " 2 1 1 1 1 1 2 2 2 2 2 2 2 0 2 2 2 0 2 2 2 0 2 2 2 1 1 1 2 2 2 2 0 2 2 2 2\n",
      " 2 2 2 2 2 2 2 2 2 2 2 2 2]\n"
     ]
    }
   ],
   "source": [
    "kmeans_pca_n = KMeans(n_clusters=3)\n",
    "kmeans_pca_n.fit(norm_pca)\n",
    "label_pca_n = kmeans_pca_n.predict(norm_pca)\n",
    "\n",
    "print(label_pca_n)"
   ]
  },
  {
   "cell_type": "code",
   "execution_count": 50,
   "id": "e50336d3",
   "metadata": {},
   "outputs": [
    {
     "name": "stdout",
     "output_type": "stream",
     "text": [
      "Silhouette Score(n=3): 0.547624304350469\n"
     ]
    }
   ],
   "source": [
    "print(f'Silhouette Score(n=3): {silhouette_score(norm_pca, label_pca_n)}')"
   ]
  },
  {
   "cell_type": "markdown",
   "id": "b98e8b3d",
   "metadata": {},
   "source": [
    "> After examing we can see that our model score (after PCA) imporved slightly from the previous score.\n",
    "\n",
    "> * Previously we had a `silhouette_score` of **0.535** and after PCA it increased to **0.548**."
   ]
  },
  {
   "cell_type": "markdown",
   "id": "10635e23",
   "metadata": {},
   "source": [
    "## 2.) Creating a Agglomerative Hierarchical model (AHC)"
   ]
  },
  {
   "cell_type": "markdown",
   "id": "df701de9",
   "metadata": {},
   "source": [
    "> Just like before we'll create a model each for our scaled and Normalised data and choose the best of those.\n",
    "\n",
    "### Finding the optimum number of clusters."
   ]
  },
  {
   "cell_type": "markdown",
   "id": "efc0da40",
   "metadata": {},
   "source": [
    "We'll first create a Dendrogram to find the optimum number of clusters."
   ]
  },
  {
   "cell_type": "code",
   "execution_count": 51,
   "id": "b5c2c221",
   "metadata": {},
   "outputs": [
    {
     "data": {
      "image/png": "[encoded data removed]",
      "text/plain": [
       "<Figure size 864x720 with 1 Axes>"
      ]
     },
     "metadata": {
      "needs_background": "light"
     },
     "output_type": "display_data"
    }
   ],
   "source": [
    "\n",
    "from scipy.cluster.hierarchy import dendrogram,linkage\n",
    "\n",
    "# For scaled data\n",
    "\n",
    "linked = linkage(scaled_data, method = \"ward\")\n",
    "\n",
    "plt.figure(figsize=(12,10))\n",
    "dendrogram(linked,orientation=\"top\",distance_sort=\"ascending\", show_leaf_counts=True)\n",
    "plt.hlines(13,0,5000,colors=\"r\",linestyles=\"dashed\")\n",
    "plt.grid()\n",
    "plt.show();"
   ]
  },
  {
   "cell_type": "markdown",
   "id": "dd4b2263",
   "metadata": {},
   "source": [
    "From the above we can take **3** as the optimum number of clusters for the `Scaled data.`"
   ]
  },
  {
   "cell_type": "code",
   "execution_count": 52,
   "id": "95ef63cb",
   "metadata": {},
   "outputs": [
    {
     "data": {
      "image/png": "[encoded data removed]",
      "text/plain": [
       "<Figure size 864x720 with 1 Axes>"
      ]
     },
     "metadata": {
      "needs_background": "light"
     },
     "output_type": "display_data"
    }
   ],
   "source": [
    "# For Normalised data\n",
    "\n",
    "linked1 = linkage(norm_data, method = \"ward\")\n",
    "\n",
    "plt.figure(figsize=(12,10))\n",
    "dendrogram(linked1,orientation=\"top\",distance_sort=\"ascending\", show_leaf_counts=True)\n",
    "plt.hlines(0.5,0,5000,colors=\"r\",linestyles=\"dashed\")\n",
    "plt.grid()\n",
    "plt.show();"
   ]
  },
  {
   "cell_type": "markdown",
   "id": "01feea10",
   "metadata": {},
   "source": [
    "For the `Normalised data` we can take **2** as the optimum number of clusters."
   ]
  },
  {
   "cell_type": "markdown",
   "id": "fa8203cf",
   "metadata": {},
   "source": [
    "#### Creating an AHC Model for `Scaled data`"
   ]
  },
  {
   "cell_type": "code",
   "execution_count": 53,
   "id": "a7e1823a",
   "metadata": {},
   "outputs": [
    {
     "name": "stdout",
     "output_type": "stream",
     "text": [
      "[2 2 2 2 2 2 2 2 2 2 2 2 2 2 2 2 2 2 2 2 2 2 2 2 2 2 2 2 2 2 2 2 2 2 2 2 2\n",
      " 2 2 2 2 2 2 2 2 2 2 2 2 2 2 2 2 2 2 2 2 1 1 0 0 0 2 0 0 1 1 2 0 0 0 0 1 0\n",
      " 0 0 0 1 0 0 0 0 0 0 0 0 0 0 0 1 0 0 0 0 0 0 0 0 0 0 0 0 0 0 0 0 0 0 0 1 0\n",
      " 0 0 0 0 0 0 0 1 1 1 1 1 1 1 1 1 1 1 1 1 1 1 1 1 1 1 1 1 1 1 1 1 1 1 1 1 1\n",
      " 1 1 1 1 1 1 1 1 1 1 1 1 1]\n"
     ]
    }
   ],
   "source": [
    "from sklearn.cluster import AgglomerativeClustering\n",
    "\n",
    "#  Making AHC Model for Scale data \n",
    "\n",
    "ahc_s = AgglomerativeClustering(n_clusters = 3, affinity=\"euclidean\", linkage=\"ward\")\n",
    "y_ahc_s = ahc_s.fit_predict(scaled_data)\n",
    "\n",
    "print(y_ahc_s)"
   ]
  },
  {
   "cell_type": "code",
   "execution_count": 54,
   "id": "24e5a013",
   "metadata": {},
   "outputs": [
    {
     "name": "stdout",
     "output_type": "stream",
     "text": [
      "Silhouette Score(n=3): 0.29574004115878627\n"
     ]
    }
   ],
   "source": [
    "print(f'Silhouette Score(n=3): {silhouette_score(scaled_data, y_ahc_s)}')"
   ]
  },
  {
   "cell_type": "markdown",
   "id": "10601b9c",
   "metadata": {},
   "source": [
    "#### Making an  AHC Model for `Normalized data`"
   ]
  },
  {
   "cell_type": "code",
   "execution_count": 55,
   "id": "2d085114",
   "metadata": {},
   "outputs": [
    {
     "name": "stdout",
     "output_type": "stream",
     "text": [
      "[0 0 0 0 0 0 0 0 0 0 0 0 0 0 0 0 0 0 0 0 0 0 0 0 0 0 0 0 0 0 0 0 0 0 0 0 0\n",
      " 0 0 0 0 0 0 0 0 0 0 0 0 0 0 0 0 0 0 0 0 0 1 0 1 1 0 0 0 0 0 1 1 0 1 1 1 1\n",
      " 1 0 0 0 1 1 1 0 0 0 0 1 0 1 1 1 1 0 1 0 0 1 1 0 1 0 0 1 0 1 0 1 1 0 1 1 0\n",
      " 0 1 1 1 1 1 0 1 1 0 0 0 0 0 0 0 0 0 1 0 0 0 1 0 0 1 1 1 0 0 0 1 0 0 0 1 0\n",
      " 0 0 0 0 0 0 1 1 0 0 0 0 0]\n"
     ]
    }
   ],
   "source": [
    "# Making AHC Model for Normalized data\n",
    "\n",
    "ahc_n = AgglomerativeClustering(n_clusters = 2, affinity = \"euclidean\", linkage = \"ward\")\n",
    "y_ahc_n = ahc_n.fit_predict(norm_data)\n",
    "\n",
    "print(y_ahc_n)"
   ]
  },
  {
   "cell_type": "code",
   "execution_count": 56,
   "id": "7ae00795",
   "metadata": {},
   "outputs": [
    {
     "name": "stdout",
     "output_type": "stream",
     "text": [
      "Silhouette Score(n=2): 0.5572893804814139\n"
     ]
    }
   ],
   "source": [
    "print(f'Silhouette Score(n=2): {silhouette_score(norm_data, y_ahc_n)}')"
   ]
  },
  {
   "cell_type": "markdown",
   "id": "045f3c00",
   "metadata": {},
   "source": [
    "#### \n",
    "*After comparing both the AHC models we can say that a Model created with normalized data is giving us a better result compared to a Standard scaled data.*"
   ]
  },
  {
   "cell_type": "markdown",
   "id": "17ba52a6",
   "metadata": {},
   "source": [
    "### Using the PCA to see if we are getting any improvement in performance"
   ]
  },
  {
   "cell_type": "markdown",
   "id": "3b55f894",
   "metadata": {},
   "source": [
    "> Since we've already done a PCA for our normalized data we'll use the same and make the model."
   ]
  },
  {
   "cell_type": "code",
   "execution_count": 57,
   "id": "c3387444",
   "metadata": {},
   "outputs": [
    {
     "name": "stdout",
     "output_type": "stream",
     "text": [
      "[0 0 0 0 0 0 0 0 0 0 0 0 0 0 0 0 0 0 0 0 0 0 0 0 0 0 0 0 0 0 0 0 0 0 0 0 0\n",
      " 0 0 0 0 0 0 0 0 0 0 0 0 0 0 0 0 0 0 0 0 0 1 0 1 1 0 0 0 0 0 1 1 0 1 1 1 1\n",
      " 1 0 0 0 1 1 1 0 0 0 1 1 0 1 1 1 1 0 1 0 0 1 1 0 1 0 1 1 0 1 1 1 1 1 1 1 0\n",
      " 0 1 1 1 1 1 0 1 1 1 1 0 0 0 0 1 0 0 1 1 0 0 1 0 0 1 1 1 0 0 0 1 0 1 0 1 0\n",
      " 0 1 0 0 0 1 1 1 0 0 0 0 1]\n"
     ]
    }
   ],
   "source": [
    "\n",
    "ahc_pca_n = AgglomerativeClustering(n_clusters = 2, affinity = \"euclidean\", linkage = \"ward\")\n",
    "y_ahc_pca = ahc_pca_n.fit_predict(norm_pca)\n",
    "\n",
    "print(y_ahc_pca)"
   ]
  },
  {
   "cell_type": "code",
   "execution_count": 58,
   "id": "b4d78006",
   "metadata": {},
   "outputs": [
    {
     "name": "stdout",
     "output_type": "stream",
     "text": [
      "Silhouette Score(n=2): 0.5585213370918147\n"
     ]
    }
   ],
   "source": [
    "print(f'Silhouette Score(n=2): {silhouette_score(norm_pca, y_ahc_pca)}')"
   ]
  },
  {
   "cell_type": "markdown",
   "id": "0c936f91",
   "metadata": {},
   "source": [
    "> We can observe a `very minor increase` in our Silhouette Score. Increased from 0.557 to 0.559"
   ]
  },
  {
   "cell_type": "markdown",
   "id": "1b6b7952",
   "metadata": {},
   "source": [
    "#### "
   ]
  },
  {
   "cell_type": "markdown",
   "id": "f6442847",
   "metadata": {},
   "source": [
    "## Conclusion : "
   ]
  },
  {
   "cell_type": "markdown",
   "id": "0070ffe8",
   "metadata": {},
   "source": [
    "* After comparing both our models we can say that the `Agglomerative Hierarchical Clustering model` (Normalized) is giving a **slightly higher** performance score than the `K-Means model` (After PCA) at identifying Clusters.\n",
    "\n",
    "> The Silhouette score for the Models were as given below :\n",
    "> * `KMeans Model` (After PCA and n = 3) = **0.55**,\n",
    "> * `AHC Model` (After PCA and n = 2 ) = **0.56**"
   ]
  },
  {
   "cell_type": "code",
   "execution_count": null,
   "id": "41b2c128",
   "metadata": {},
   "outputs": [],
   "source": []
  }
 ],
 "metadata": {
  "kernelspec": {
   "display_name": "Python 3 (ipykernel)",
   "language": "python",
   "name": "python3"
  },
  "language_info": {
   "codemirror_mode": {
    "name": "ipython",
    "version": 3
   },
   "file_extension": ".py",
   "mimetype": "text/x-python",
   "name": "python",
   "nbconvert_exporter": "python",
   "pygments_lexer": "ipython3",
   "version": "3.9.12"
  }
 },
 "nbformat": 4,
 "nbformat_minor": 5
}
